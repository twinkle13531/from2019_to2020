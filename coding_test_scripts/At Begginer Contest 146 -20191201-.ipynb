{
 "cells": [
  {
   "cell_type": "markdown",
   "metadata": {},
   "source": [
    "# Atcoder biginner contest 146"
   ]
  },
  {
   "cell_type": "markdown",
   "metadata": {},
   "source": [
    "## A- can't wait for holiday\n",
    "\n",
    "問題文<br/>\n",
    "今日の曜日を表す文字列 Sが与えられます。\n",
    "<br/>\n",
    "Sは SUN,MON,TUE,WED,THU,FRI,SAT のいずれかであり、それぞれ日曜日、月曜日、火曜日、水曜日、木曜日、金曜日、土曜日を表します。\n",
    "<br/><br/>\n",
    "次の日曜日 (あす以降) が何日後か求めてください。\n",
    "<br/><br/>\n",
    "制約<br/>\n",
    "Sは SUN,MON,TUE,WED,THU,FRI,SAT のいずれか\n",
    "\n",
    "<br/>\n",
    "例)Sat→1<br/>\n",
    "例)Sun→7<br/>"
   ]
  },
  {
   "cell_type": "code",
   "execution_count": 4,
   "metadata": {},
   "outputs": [
    {
     "name": "stdout",
     "output_type": "stream",
     "text": [
      "MON\n",
      "6\n"
     ]
    }
   ],
   "source": [
    "S_list = ['SUN', 'MON', 'TUE', 'WED', 'THU', 'FRI', 'SAT']\n",
    "\n",
    "S = input() \n",
    "for i in range(len(S_list)):\n",
    "    if S_list[i]== S:\n",
    "        print(str(7-i))"
   ]
  },
  {
   "cell_type": "markdown",
   "metadata": {},
   "source": [
    "## B-  ROT-N\n",
    "問題文\n",
    "英大文字のみからなる文字列 Sがあります。また、整数 Nが与えられます。\n",
    "\n",
    "Sの各文字を、アルファベット順で N個後の文字に置き換えた文字列を出力してください。\n",
    "\n",
    "ただしアルファベット順で Z の 1個後の文字は A とみなします。"
   ]
  },
  {
   "cell_type": "code",
   "execution_count": 8,
   "metadata": {},
   "outputs": [
    {
     "name": "stdout",
     "output_type": "stream",
     "text": [
      "4\n",
      "G\n",
      "K\n"
     ]
    }
   ],
   "source": [
    "N = input()\n",
    "S = input()\n",
    "\n",
    "S_list = ['A', 'B', 'C', 'D', 'E', 'F', 'G', 'H', 'I', 'J', 'K', 'L', 'M', \n",
    "          'N', 'O', 'P', 'Q', 'R', 'S', 'T', 'U', 'V', 'W', 'S' ,'Y', 'Z']\n",
    "for i in range(len(S_list)):\n",
    "    if S_list[i]==S:\n",
    "        i = (i+int(N))%len(S_list)\n",
    "        print(S_list[i])"
   ]
  },
  {
   "cell_type": "markdown",
   "metadata": {},
   "source": [
    "## C- buy as interger\n",
    "\n",
    "問題文\n",
    "高橋くんは整数を 1つ買いに整数屋さんに行きました。\n",
    "\n",
    "整数屋さんには 1\n",
    " 以上 10**9 以下の整数が売られていて、整数 N\n",
    " を買うためには A×N+B×d(N) 円が必要です。ここでd(N) は Nの十進表記での桁数です。\n",
    "\n",
    "高橋くんの所持金が X 円のとき、高橋くんの買うことのできる最も大きい整数を求めてください。ただし、買うことのできる整数が 1つもない場合は 0を出力してください。\n",
    "\n"
   ]
  },
  {
   "cell_type": "code",
   "execution_count": 35,
   "metadata": {},
   "outputs": [],
   "source": [
    "#-m timeit '(12345*10111213 + 67890*(len(str(10111213))))'\n",
    "#1000000 loops, best of 3: 0.295 usec per loop #マイクロ秒"
   ]
  },
  {
   "cell_type": "code",
   "execution_count": 33,
   "metadata": {},
   "outputs": [
    {
     "name": "stdout",
     "output_type": "stream",
     "text": [
      "3 5 1001\n",
      "328\n"
     ]
    }
   ],
   "source": [
    "A, B, X = map(int,input().split())\n",
    "\n",
    "def N_prices(n):\n",
    "    return(A*n + B*(len(str(n))))\n",
    "\n",
    "if X <= N_prices(0):\n",
    "    print('0')\n",
    "\n",
    "if N_prices(10**6) <= X:\n",
    "    print('109')\n",
    "\n",
    "for i in range(1, 10**9):\n",
    "    if N_prices(i) <=X and X<=N_prices(i+1):\n",
    "        print(str(i))\n",
    "        break"
   ]
  },
  {
   "cell_type": "markdown",
   "metadata": {},
   "source": [
    "## D - Coloring Edges on Tree\n",
    "\n",
    "問題文N頂点の木Gが与えられます。 \n",
    "頂点には 1から Nまでの番号がついており、\n",
    "i本目の辺は頂点 aiと頂点 biを結んでいます。\n",
    "\n",
    "Gの辺を何色かで塗り分けることを考えます。 \n",
    "このとき、各頂点について、その頂点を端点に持つ辺の色がすべて相異なるようにしたいです。\n",
    "\n",
    "上記の条件を満たす塗り分けの中で、使用する色の数が最小であるようなものを 1つ構築してください。"
   ]
  },
  {
   "cell_type": "code",
   "execution_count": null,
   "metadata": {},
   "outputs": [],
   "source": [
    "import sys\n",
    "from collections import deque\n",
    " \n",
    "def main():\n",
    "    n = int(sys.stdin.readline().rstrip()) #大量に1行ごとの入力を行う #readline()...1行ごと\n",
    "    ab = map(int, sys.stdin.read().split())#ファイルから指定サイズのデータを読み出す。引数を省略すると、ファイルの内容全てを読み出す。\n",
    "    ab = list(zip(ab, ab))\n",
    " \n",
    "    G = [[] for _ in range(n + 1)]\n",
    "    for a, b in ab:\n",
    "        G[a].append(b)\n",
    "        G[b].append(a)\n",
    "    \n",
    "    root = 1\n",
    "    q = deque()\n",
    "    q.append(root)\n",
    "    parent = [None] * (n + 1)\n",
    "    color = [0] * (n + 1) # color[y]はx = parent[y]としてcolor[x] に依存する。\n",
    " \n",
    "    while q:\n",
    "        x = q.popleft()\n",
    "        c = 1\n",
    "        for y in G[x]:\n",
    "            if y == parent[x]:\n",
    "                continue\n",
    "            parent[y] = x\n",
    "            if color[x] == c:\n",
    "                c += 1\n",
    "            color[y] = c\n",
    "            c += 1\n",
    "            q.append(y)\n",
    " \n",
    "    res = []\n",
    "    for a, b in ab:\n",
    "        if a == parent[b]:\n",
    "            res.append(color[b])\n",
    "        else:\n",
    "            res.append(color[a])\n",
    "    \n",
    "    k = max(color)\n",
    "    print(k)\n",
    "    print('\\n'.join(map(str, res)))\n",
    " \n",
    "if __name__ == '__main__':\n",
    "    main()"
   ]
  }
 ],
 "metadata": {
  "kernelspec": {
   "display_name": "Python 3",
   "language": "python",
   "name": "python3"
  },
  "language_info": {
   "codemirror_mode": {
    "name": "ipython",
    "version": 3
   },
   "file_extension": ".py",
   "mimetype": "text/x-python",
   "name": "python",
   "nbconvert_exporter": "python",
   "pygments_lexer": "ipython3",
   "version": "3.7.3"
  }
 },
 "nbformat": 4,
 "nbformat_minor": 2
}
