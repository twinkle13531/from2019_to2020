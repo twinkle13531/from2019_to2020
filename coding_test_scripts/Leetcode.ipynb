{
 "cells": [
  {
   "cell_type": "markdown",
   "metadata": {},
   "source": [
    "# 1. TWO SUM\n",
    "\n",
    "- −の数値もあった\n",
    "- ```pyhton```ではなく```python3```で実行したら```runtime error```はなくなった\n",
    "- ```self.nums```としなくていいらしい"
   ]
  },
  {
   "cell_type": "code",
   "execution_count": null,
   "metadata": {},
   "outputs": [],
   "source": [
    "# 私のコード\n",
    "class Solution(object):\n",
    "    def twoSum(self, nums, target):\n",
    "        \"\"\"\n",
    "        :type nums: List[int]\n",
    "        :type target: int\n",
    "        :rtype: List[int]\n",
    "        \"\"\"\n",
    "        possible_nums = [i for i in range(len(nums))]\n",
    "        \n",
    "        while len(possible_nums) >= 2:\n",
    "            j = possible_nums[0]\n",
    "            for k in possible_nums:\n",
    "                if j != k and nums[j] + nums[k] == target:\n",
    "                    return [j, k]\n",
    "            \n",
    "            del possible_nums[0]"
   ]
  },
  {
   "cell_type": "code",
   "execution_count": null,
   "metadata": {},
   "outputs": [],
   "source": [
    "class Solution(object):\n",
    "    def twoSum(self, nums, target):\n",
    "        \"\"\"\n",
    "        :type nums: List[int]\n",
    "        :type target: int\n",
    "        :rtype: List[int]\n",
    "        \"\"\"\n",
    "        dictionary={}\n",
    "        for i in range(len(nums)):\n",
    "            key=target-nums[i]\n",
    "            if key in dictionary:\n",
    "                return [dictionary[key],i]\n",
    "            else:\n",
    "                dictionary.update({nums[i]:i})"
   ]
  },
  {
   "cell_type": "markdown",
   "metadata": {},
   "source": [
    "```return```が使えないのが気になる"
   ]
  },
  {
   "cell_type": "code",
   "execution_count": 19,
   "metadata": {},
   "outputs": [
    {
     "ename": "SyntaxError",
     "evalue": "'return' outside function (<ipython-input-19-3ccd45dd323e>, line 8)",
     "output_type": "error",
     "traceback": [
      "\u001b[0;36m  File \u001b[0;32m\"<ipython-input-19-3ccd45dd323e>\"\u001b[0;36m, line \u001b[0;32m8\u001b[0m\n\u001b[0;31m    return [dictionary[key],i]\u001b[0m\n\u001b[0m    ^\u001b[0m\n\u001b[0;31mSyntaxError\u001b[0m\u001b[0;31m:\u001b[0m 'return' outside function\n"
     ]
    }
   ],
   "source": [
    "nums = [ 4, 4, 6, 7, 10 ,8]\n",
    "target = 18\n",
    "\n",
    "dictionary={}\n",
    "for i in range(len(nums)):\n",
    "    key=target-nums[i]\n",
    "    if key in dictionary:\n",
    "        return [dictionary[key],i]\n",
    "    else:\n",
    "        dictionary.update({nums[i]:i})"
   ]
  },
  {
   "cell_type": "markdown",
   "metadata": {},
   "source": [
    "# 2. また今度\n",
    "- listnode"
   ]
  },
  {
   "cell_type": "code",
   "execution_count": null,
   "metadata": {},
   "outputs": [],
   "source": [
    "li = (2 -> 4 -> 3)"
   ]
  },
  {
   "cell_type": "markdown",
   "metadata": {},
   "source": [
    "# 3. Longest Substring Without Repeating Characters "
   ]
  },
  {
   "cell_type": "code",
   "execution_count": 20,
   "metadata": {
    "scrolled": true
   },
   "outputs": [
    {
     "data": {
      "text/plain": [
       "'pd'"
      ]
     },
     "execution_count": 20,
     "metadata": {},
     "output_type": "execute_result"
    }
   ],
   "source": [
    "'p'+'d'"
   ]
  },
  {
   "cell_type": "code",
   "execution_count": 21,
   "metadata": {
    "scrolled": true
   },
   "outputs": [
    {
     "data": {
      "text/plain": [
       "2"
      ]
     },
     "execution_count": 21,
     "metadata": {},
     "output_type": "execute_result"
    }
   ],
   "source": [
    "len('pd')"
   ]
  },
  {
   "cell_type": "code",
   "execution_count": 34,
   "metadata": {},
   "outputs": [
    {
     "data": {
      "text/plain": [
       "['a', 'c']"
      ]
     },
     "execution_count": 34,
     "metadata": {},
     "output_type": "execute_result"
    }
   ],
   "source": [
    "s= \"abcabcbb\"\n",
    "s_list = [[s[0]]]\n",
    "s_list\n",
    "s_list[-1]\n",
    "s[4]\n",
    "s_list[-1].append(s[2])\n",
    "s_list[-1]"
   ]
  },
  {
   "cell_type": "code",
   "execution_count": 49,
   "metadata": {
    "scrolled": true
   },
   "outputs": [
    {
     "name": "stdout",
     "output_type": "stream",
     "text": [
      "[['d']]\n",
      "4\n",
      "[['d', 'v']]\n",
      "[['d', 'v'], []]\n",
      "[['d', 'v'], ['d']]\n",
      "[['d', 'v'], ['d', 'f']]\n",
      "[2, 2]\n",
      "2\n"
     ]
    }
   ],
   "source": [
    "s= \"dvdf\"\n",
    "s_list = [[s[0]]]\n"
   ]
  },
  {
   "cell_type": "code",
   "execution_count": 50,
   "metadata": {},
   "outputs": [
    {
     "data": {
      "text/plain": [
       "'dv'"
      ]
     },
     "execution_count": 50,
     "metadata": {},
     "output_type": "execute_result"
    }
   ],
   "source": [
    "s= s[:2] #0, 1\n",
    "s"
   ]
  },
  {
   "cell_type": "code",
   "execution_count": 72,
   "metadata": {},
   "outputs": [
    {
     "name": "stdout",
     "output_type": "stream",
     "text": [
      "[['a']]\n",
      "bcabcbb\n",
      "[['a', 'b', 'c'], ['b']]\n",
      "cabcbb\n",
      "[['a', 'b', 'c'], ['b', 'c', 'a'], ['c']]\n",
      "abcbb\n",
      "[['a', 'b', 'c'], ['b', 'c', 'a'], ['c', 'a', 'b'], ['a']]\n",
      "bcbb\n",
      "[['a', 'b', 'c'], ['b', 'c', 'a'], ['c', 'a', 'b'], ['a', 'b', 'c'], ['b']]\n",
      "cbb\n",
      "[['a', 'b', 'c'], ['b', 'c', 'a'], ['c', 'a', 'b'], ['a', 'b', 'c'], ['b', 'c'], ['c']]\n",
      "bb\n",
      "[['a', 'b', 'c'], ['b', 'c', 'a'], ['c', 'a', 'b'], ['a', 'b', 'c'], ['b', 'c'], ['c', 'b'], ['b']]\n",
      "b\n",
      "[['a', 'b', 'c'], ['b', 'c', 'a'], ['c', 'a', 'b'], ['a', 'b', 'c'], ['b', 'c'], ['c', 'b'], ['b'], ['b']]\n",
      "\n",
      "3\n"
     ]
    }
   ],
   "source": [
    "s= \"abcabcbb\"\n",
    "\n",
    "s_list = []\n",
    "        \n",
    "while len(s) >= 1:\n",
    "    s_list.append([])\n",
    "    s_list[-1].append(s[0])\n",
    "    print(s_list)\n",
    "    s = s[1:]\n",
    "    print(s)\n",
    "    for i in range(len(s)):\n",
    "        if not s[i] in s_list[-1]:\n",
    "            s_list[-1].append(s[i])\n",
    "        else:\n",
    "            break\n",
    "            \n",
    "s_list_len = [len(l) for l in s_list]\n",
    "print(max(s_list_len))"
   ]
  },
  {
   "cell_type": "code",
   "execution_count": null,
   "metadata": {},
   "outputs": [],
   "source": [
    "class Solution:\n",
    "    def lengthOfLongestSubstring(self, s: str) -> int:\n",
    "        s_list = []\n",
    "        \n",
    "        while len(s) >= 1:\n",
    "            s_list.append([])\n",
    "            s_list[-1].append(s[0])\n",
    "            s = s[1:]\n",
    "            for i in range(len(s)):\n",
    "                if not s[i] in s_list[-1]:\n",
    "                    s_list[-1].append(s[i])\n",
    "                else:\n",
    "                    break\n",
    "        if len(s_list) > 0:\n",
    "            s_list_len = [len(l) for l in s_list]\n",
    "            return max(s_list_len)\n",
    "        else:\n",
    "            return 0"
   ]
  },
  {
   "cell_type": "code",
   "execution_count": null,
   "metadata": {},
   "outputs": [],
   "source": [
    "#set()...ダブりのない要素を含む\n",
    "\n",
    "class Solution:\n",
    "    def lengthOfLongestSubstring(self, s: str) -> int:\n",
    "        window = set()\n",
    "\n",
    "        maxSize = 0\n",
    "        lPtr = 0\n",
    "            \n",
    "        for i, num in enumerate(s):\n",
    "            while num in window:\n",
    "                window.remove(s[lPtr])\n",
    "                lPtr += 1\n",
    "            \n",
    "            window.add(num)\n",
    "            maxSize = max(maxSize, len(window))\n",
    "\n",
    "        return maxSize"
   ]
  },
  {
   "cell_type": "markdown",
   "metadata": {},
   "source": [
    "# 4. Median of Two Sorted Arrays   "
   ]
  },
  {
   "cell_type": "code",
   "execution_count": 78,
   "metadata": {},
   "outputs": [],
   "source": [
    "ee = [3, 5, 6]\n",
    "ff = [5, 6, 7]"
   ]
  },
  {
   "cell_type": "code",
   "execution_count": 79,
   "metadata": {},
   "outputs": [
    {
     "data": {
      "text/plain": [
       "[3, 5, 6, 5, 6, 7]"
      ]
     },
     "execution_count": 79,
     "metadata": {},
     "output_type": "execute_result"
    }
   ],
   "source": [
    "for j in ff:\n",
    "    ee.append(j)\n",
    "ee"
   ]
  },
  {
   "cell_type": "code",
   "execution_count": null,
   "metadata": {},
   "outputs": [],
   "source": [
    "class Solution:\n",
    "    def findMedianSortedArrays(self, nums1: List[int], nums2: List[int]) -> float:\n",
    "        \n",
    "        for l in nums2:\n",
    "            nums1.append(l)\n",
    "        \n",
    "        #sort\n",
    "        nums1.sort()\n",
    "        \n",
    "        \n",
    "        if len(nums1) % 2 == 0:\n",
    "            return (nums1[len(nums1)//2 - 1] + nums1[len(nums1)//2])/2\n",
    "        else:\n",
    "            return nums1[len(nums1) // 2] "
   ]
  },
  {
   "cell_type": "markdown",
   "metadata": {},
   "source": [
    "# 5. Longest Palindromic Substring"
   ]
  },
  {
   "cell_type": "code",
   "execution_count": null,
   "metadata": {},
   "outputs": [],
   "source": [
    "class Solution:\n",
    "    def longestPalindrome(self, s: str) -> str:\n",
    "        #長い方からスタート\n",
    "        if s == \"\":\n",
    "            return s\n",
    "        else:       \n",
    "            for i in reversed(range(1, len(s)+1)):\n",
    "                #スタート地点\n",
    "                for j in range(len(s)):\n",
    "                    if j+i <= len(s) and s[j:(j+i)]==s[j:(j+i)][::-1]:\n",
    "                        return s[j:(j+i)]\n",
    "                    "
   ]
  },
  {
   "cell_type": "markdown",
   "metadata": {},
   "source": [
    "# 6. ZigZag Conversion "
   ]
  },
  {
   "cell_type": "code",
   "execution_count": 86,
   "metadata": {},
   "outputs": [
    {
     "data": {
      "text/html": [
       "<div>\n",
       "<style scoped>\n",
       "    .dataframe tbody tr th:only-of-type {\n",
       "        vertical-align: middle;\n",
       "    }\n",
       "\n",
       "    .dataframe tbody tr th {\n",
       "        vertical-align: top;\n",
       "    }\n",
       "\n",
       "    .dataframe thead th {\n",
       "        text-align: right;\n",
       "    }\n",
       "</style>\n",
       "<table border=\"1\" class=\"dataframe\">\n",
       "  <thead>\n",
       "    <tr style=\"text-align: right;\">\n",
       "      <th></th>\n",
       "      <th>0</th>\n",
       "      <th>1</th>\n",
       "      <th>2</th>\n",
       "      <th>3</th>\n",
       "      <th>4</th>\n",
       "      <th>5</th>\n",
       "    </tr>\n",
       "  </thead>\n",
       "  <tbody>\n",
       "    <tr>\n",
       "      <td>0</td>\n",
       "      <td>NaN</td>\n",
       "      <td>NaN</td>\n",
       "      <td>NaN</td>\n",
       "      <td>NaN</td>\n",
       "      <td>NaN</td>\n",
       "      <td>NaN</td>\n",
       "    </tr>\n",
       "    <tr>\n",
       "      <td>1</td>\n",
       "      <td>NaN</td>\n",
       "      <td>NaN</td>\n",
       "      <td>NaN</td>\n",
       "      <td>NaN</td>\n",
       "      <td>NaN</td>\n",
       "      <td>NaN</td>\n",
       "    </tr>\n",
       "    <tr>\n",
       "      <td>2</td>\n",
       "      <td>NaN</td>\n",
       "      <td>NaN</td>\n",
       "      <td>NaN</td>\n",
       "      <td>NaN</td>\n",
       "      <td>NaN</td>\n",
       "      <td>NaN</td>\n",
       "    </tr>\n",
       "    <tr>\n",
       "      <td>3</td>\n",
       "      <td>NaN</td>\n",
       "      <td>NaN</td>\n",
       "      <td>NaN</td>\n",
       "      <td>NaN</td>\n",
       "      <td>NaN</td>\n",
       "      <td>NaN</td>\n",
       "    </tr>\n",
       "    <tr>\n",
       "      <td>4</td>\n",
       "      <td>NaN</td>\n",
       "      <td>NaN</td>\n",
       "      <td>NaN</td>\n",
       "      <td>NaN</td>\n",
       "      <td>NaN</td>\n",
       "      <td>NaN</td>\n",
       "    </tr>\n",
       "  </tbody>\n",
       "</table>\n",
       "</div>"
      ],
      "text/plain": [
       "     0    1    2    3    4    5\n",
       "0  NaN  NaN  NaN  NaN  NaN  NaN\n",
       "1  NaN  NaN  NaN  NaN  NaN  NaN\n",
       "2  NaN  NaN  NaN  NaN  NaN  NaN\n",
       "3  NaN  NaN  NaN  NaN  NaN  NaN\n",
       "4  NaN  NaN  NaN  NaN  NaN  NaN"
      ]
     },
     "execution_count": 86,
     "metadata": {},
     "output_type": "execute_result"
    }
   ],
   "source": [
    "import pandas as pd\n",
    "\n",
    "numRows = 5\n",
    "numCols = 6\n",
    "\n",
    "df = pd.DataFrame(index=[i for i in range(numRows)], columns=[j for j in range(numCols)])\n",
    "df"
   ]
  },
  {
   "cell_type": "code",
   "execution_count": null,
   "metadata": {},
   "outputs": [],
   "source": []
  }
 ],
 "metadata": {
  "kernelspec": {
   "display_name": "Python 3",
   "language": "python",
   "name": "python3"
  },
  "language_info": {
   "codemirror_mode": {
    "name": "ipython",
    "version": 3
   },
   "file_extension": ".py",
   "mimetype": "text/x-python",
   "name": "python",
   "nbconvert_exporter": "python",
   "pygments_lexer": "ipython3",
   "version": "3.7.3"
  }
 },
 "nbformat": 4,
 "nbformat_minor": 2
}
