{
 "cells": [
  {
   "cell_type": "markdown",
   "metadata": {},
   "source": [
    "# このファイルの内容\n",
    "ITスキルテストで出題された問題\n",
    "\n",
    "# このファイルを作成した目的\n",
    "* 次回以降のITスキルテストに対する過去問として使えるようにするため\n",
    "* 単純に自分のスキルアップのため"
   ]
  },
  {
   "cell_type": "code",
   "execution_count": 1,
   "metadata": {},
   "outputs": [
    {
     "name": "stdout",
     "output_type": "stream",
     "text": [
      "3 \n",
      "\n",
      "-10 2 100000 \n"
     ]
    },
    {
     "data": {
      "text/plain": [
       "<function TextIOWrapper.close()>"
      ]
     },
     "execution_count": 1,
     "metadata": {},
     "output_type": "execute_result"
    }
   ],
   "source": [
    "f = open('text.txt')\n",
    "line = f.readline() # 1行を文字列として読み込む(改行文字も含まれる)\n",
    "while line:\n",
    "    print(line)\n",
    "    line = f.readline()\n",
    "f.close"
   ]
  },
  {
   "cell_type": "code",
   "execution_count": 2,
   "metadata": {},
   "outputs": [
    {
     "name": "stdout",
     "output_type": "stream",
     "text": [
      "3 \n",
      "-10 2 100000 \n"
     ]
    }
   ],
   "source": [
    "v = 'text.txt'\n",
    "f = open(v)\n",
    "line = f.readline()\n",
    "\n",
    "while line:\n",
    "    print(line.replace('\\n','')) #なぞの一行をなくした\n",
    "    line = f.readline()\n",
    "\n",
    "f.close()"
   ]
  },
  {
   "cell_type": "code",
   "execution_count": 3,
   "metadata": {
    "scrolled": true
   },
   "outputs": [
    {
     "data": {
      "text/plain": [
       "str"
      ]
     },
     "execution_count": 3,
     "metadata": {},
     "output_type": "execute_result"
    }
   ],
   "source": [
    "type(line)"
   ]
  },
  {
   "cell_type": "code",
   "execution_count": 9,
   "metadata": {},
   "outputs": [
    {
     "data": {
      "text/plain": [
       "''"
      ]
     },
     "execution_count": 9,
     "metadata": {},
     "output_type": "execute_result"
    }
   ],
   "source": [
    "line"
   ]
  },
  {
   "cell_type": "code",
   "execution_count": 5,
   "metadata": {},
   "outputs": [
    {
     "name": "stdout",
     "output_type": "stream",
     "text": [
      "3 \n",
      "\n",
      "-10 2 100000 \n"
     ]
    }
   ],
   "source": [
    "f = open('text.txt')\n",
    "lines2 = f.readlines() # 1行毎にファイル終端まで全て読む(改行文字も含まれる)\n",
    "f.close()"
   ]
  },
  {
   "cell_type": "code",
   "execution_count": 6,
   "metadata": {},
   "outputs": [
    {
     "data": {
      "text/plain": [
       "str"
      ]
     },
     "execution_count": 6,
     "metadata": {},
     "output_type": "execute_result"
    }
   ],
   "source": [
    "type(line3)"
   ]
  },
  {
   "cell_type": "code",
   "execution_count": 7,
   "metadata": {},
   "outputs": [
    {
     "data": {
      "text/plain": [
       "list"
      ]
     },
     "execution_count": 7,
     "metadata": {},
     "output_type": "execute_result"
    }
   ],
   "source": [
    "type(lines2)"
   ]
  },
  {
   "cell_type": "code",
   "execution_count": 8,
   "metadata": {},
   "outputs": [
    {
     "data": {
      "text/plain": [
       "'3 \\n'"
      ]
     },
     "execution_count": 8,
     "metadata": {},
     "output_type": "execute_result"
    }
   ],
   "source": [
    "lines2[0]"
   ]
  },
  {
   "cell_type": "code",
   "execution_count": 11,
   "metadata": {},
   "outputs": [
    {
     "data": {
      "text/plain": [
       "3"
      ]
     },
     "execution_count": 11,
     "metadata": {},
     "output_type": "execute_result"
    }
   ],
   "source": [
    "int(lines2[0].replace('\\n','').replace(' ',''))"
   ]
  },
  {
   "cell_type": "code",
   "execution_count": 24,
   "metadata": {},
   "outputs": [
    {
     "name": "stdout",
     "output_type": "stream",
     "text": [
      "[-10, 2, 100000]\n"
     ]
    }
   ],
   "source": [
    "grasses = lines2[1].split()\n",
    "for i in range(len(grasses)):\n",
    "    grasses[i] = int(grasses[i])\n",
    "print(grasses)"
   ]
  },
  {
   "cell_type": "code",
   "execution_count": null,
   "metadata": {},
   "outputs": [],
   "source": [
    "f = open(argv)\n",
    "lines = f.readlines() # 1行毎にファイル終端まで全て読む(改行文字も含まれる)\n",
    "f.close()\n",
    "\n",
    "n = int(lines[0].replace('\\n','').replace(' ',''))\n",
    "\n",
    "grasses = lines[1].split()\n",
    "for i in range(len(grasses)):\n",
    "    grasses[i] = int(grasses[i])\n",
    "print(grasses)"
   ]
  },
  {
   "cell_type": "code",
   "execution_count": 25,
   "metadata": {},
   "outputs": [
    {
     "ename": "SyntaxError",
     "evalue": "invalid syntax (<ipython-input-25-1816d340ea44>, line 2)",
     "output_type": "error",
     "traceback": [
      "\u001b[0;36m  File \u001b[0;32m\"<ipython-input-25-1816d340ea44>\"\u001b[0;36m, line \u001b[0;32m2\u001b[0m\n\u001b[0;31m    del_grass = del grasses[j]\u001b[0m\n\u001b[0m                  ^\u001b[0m\n\u001b[0;31mSyntaxError\u001b[0m\u001b[0;31m:\u001b[0m invalid syntax\n"
     ]
    }
   ],
   "source": [
    "for j in range(n):\n",
    "    del_grass = del grasses[j]\n",
    "    print(max(del_grass))"
   ]
  },
  {
   "cell_type": "code",
   "execution_count": 33,
   "metadata": {},
   "outputs": [
    {
     "data": {
      "text/plain": [
       "[1, 1, 6]"
      ]
     },
     "execution_count": 33,
     "metadata": {},
     "output_type": "execute_result"
    }
   ],
   "source": [
    "date = '0001-01-06'\n",
    "\n",
    "date_list = date.split(\"-\")\n",
    "\n",
    "for i in range(len(date_list)):\n",
    "    date_list[i] = int(date_list[i])\n",
    "date_list"
   ]
  },
  {
   "cell_type": "code",
   "execution_count": 34,
   "metadata": {},
   "outputs": [
    {
     "name": "stdout",
     "output_type": "stream",
     "text": [
      "['A', 'B', 'C', 'D', 'E', 'F', 'G', 'H', 'I', 'J', 'K', 'L', 'M', 'N', 'O', 'P', 'Q', 'R', 'S', 'T', 'U', 'V', 'W', 'X', 'Y', 'Z']\n"
     ]
    }
   ],
   "source": [
    "print([chr(ord('A') + i) for i in range(26)])"
   ]
  },
  {
   "cell_type": "code",
   "execution_count": 37,
   "metadata": {},
   "outputs": [
    {
     "name": "stdout",
     "output_type": "stream",
     "text": [
      "['A', 'B', 'C', 'D', 'E', 'F', 'G', 'H', 'I', 'J']\n"
     ]
    }
   ],
   "source": [
    "n =10\n",
    "week_chr_list = [chr(ord('A') + i) for i in range(n)]\n",
    "print(week_chr_list)"
   ]
  },
  {
   "cell_type": "code",
   "execution_count": null,
   "metadata": {},
   "outputs": [],
   "source": [
    "import sys\n",
    "\n",
    "def main(argv):\n",
    "    daysInYear = argv[0]\n",
    "    daysInMonth = argv[1]\n",
    "    daysInWeek = argv[2]\n",
    "    date = agrv[3]\n",
    "    num_month = daysInYear/daysInMonth\n",
    "    rest_days = daysInYear%daysInMonth\n",
    "    week_chr_list = [chr(ord('A') + i) for i in range(daysInWeek)]\n",
    "\n",
    "    leap_year_list = []\n",
    "    stack_days = 0\n",
    "    for j in range(date_list[0]-1):\n",
    "        if (stack_days+rest_days*j) >= daysInMonth:\n",
    "            leap_year_list.append(j)\n",
    "            stack_days = stack_days+rest_days*j - daysInMonth\n",
    "\n",
    "    for i in range(len(date_list)):\n",
    "        date_list[i] = int(date_list[i])\n",
    "\n",
    "    sum_days = daysInMonth*num_month*(date_list[0]-1) + rest_days*len(leap_year_list) + daysInMonth*(date_list[1]-1) + date_list[2]\n",
    "\n",
    "    if daysInWeek > daysInMonth and daysInMonth > 99 and num_month > 99:\n",
    "        print('-1')\n",
    "    elif date_list[1] > num_month and date_list[2] > daysInMonth:\n",
    "        print('-1')\n",
    "    else:\n",
    "        print(week_chr_list[sum_days % daysInWeek - 1])\n",
    "\n",
    "    \n",
    "if __name__ == '__main__':\n",
    "    main(sys.argv[1:])"
   ]
  },
  {
   "cell_type": "code",
   "execution_count": null,
   "metadata": {},
   "outputs": [],
   "source": [
    "import sys\n",
    "\n",
    "def main(lines):\n",
    "    # このコードは標準入力と標準出力を用いたサンプルコードです。\n",
    "    # このコードは好きなように編集・削除してもらって構いません。\n",
    "    # ---\n",
    "    # This is a sample code to use stdin and stdout.\n",
    "    # Edit and remove this code as you like.\n",
    "\n",
    "    for i, v in enumerate(lines):\n",
    "        print(\"line[{0}]: {1}\".format(i, v))\n",
    "\n",
    "if __name__ == '__main__':\n",
    "    lines = []\n",
    "    for l in sys.stdin:\n",
    "        lines.append(l.rstrip('\\r\\n'))\n",
    "    main(lines)"
   ]
  },
  {
   "cell_type": "code",
   "execution_count": null,
   "metadata": {},
   "outputs": [],
   "source": [
    "# main.py内で定義されている、mainという関数から、 lines の名前で取得可能です"
   ]
  },
  {
   "cell_type": "code",
   "execution_count": 3,
   "metadata": {},
   "outputs": [
    {
     "ename": "SyntaxError",
     "evalue": "'return' outside function (<ipython-input-3-9c06191d2000>, line 4)",
     "output_type": "error",
     "traceback": [
      "\u001b[0;36m  File \u001b[0;32m\"<ipython-input-3-9c06191d2000>\"\u001b[0;36m, line \u001b[0;32m4\u001b[0m\n\u001b[0;31m    return\u001b[0m\n\u001b[0m    ^\u001b[0m\n\u001b[0;31mSyntaxError\u001b[0m\u001b[0;31m:\u001b[0m 'return' outside function\n"
     ]
    }
   ],
   "source": [
    "for tmp in range(10):\n",
    "    #if文で条件分岐をしてreturnで返す\n",
    "    if tmp==5:\n",
    "        return\n",
    "    print(tmp)"
   ]
  },
  {
   "cell_type": "code",
   "execution_count": 7,
   "metadata": {},
   "outputs": [
    {
     "ename": "SyntaxError",
     "evalue": "'return' outside function (<ipython-input-7-c9074662c7c0>, line 9)",
     "output_type": "error",
     "traceback": [
      "\u001b[0;36m  File \u001b[0;32m\"<ipython-input-7-c9074662c7c0>\"\u001b[0;36m, line \u001b[0;32m9\u001b[0m\n\u001b[0;31m    return\u001b[0m\n\u001b[0m    ^\u001b[0m\n\u001b[0;31mSyntaxError\u001b[0m\u001b[0;31m:\u001b[0m 'return' outside function\n"
     ]
    }
   ],
   "source": [
    "clors = ['R', 'W']\n",
    "states = ['D', 'U']\n",
    "\n",
    "\n",
    "for i in range(len(lines)):\n",
    "    if lines[i][:1] == 'R':\n",
    "        if lines[i][1] == A_state['R']:\n",
    "            print('Alice')\n",
    "            return\n",
    "        else:\n",
    "            A_state['R'] = lines[i][1]\n",
    "    else:\n",
    "        if lines[i][1] == A_state['W']:\n",
    "            print('Alice')\n",
    "            return\n",
    "        else:\n",
    "            A_state['W'] = lines[i][1]\n",
    "    \n",
    "print(A_state['R']+A_state['W'])\n",
    "    \n",
    "\n",
    "if __name__ == '__main__':\n",
    "    lines = []\n",
    "    for l in sys.stdin:\n",
    "        lines.append(l.rstrip('\\r\\n'))\n",
    "    main(lines)"
   ]
  },
  {
   "cell_type": "code",
   "execution_count": 10,
   "metadata": {},
   "outputs": [
    {
     "name": "stdout",
     "output_type": "stream",
     "text": [
      "DD\n"
     ]
    }
   ],
   "source": [
    "import sys\n",
    "\n",
    "def main(lines):\n",
    "    S_orders = (''.join(lines)).split()\n",
    "    A_state = {'R':'D', 'W':'D'} #dic\n",
    "    #clors = ['R', 'W']\n",
    "    states = ['D', 'U']\n",
    "\n",
    "\n",
    "    error = 0\n",
    "    for i in range(len(lines)):\n",
    "        if lines[i][:1] == 'R':\n",
    "            if lines[i][1] == A_state['R']:\n",
    "                error += 1\n",
    "            else:\n",
    "                A_state['R'] = lines[i][1]\n",
    "        else:\n",
    "            if lines[i][1] == A_state['W']:\n",
    "                error += 1\n",
    "            else:\n",
    "                A_state['W'] = lines[i][1]\n",
    "    \n",
    "    if error == 0:\n",
    "        print(A_state['R']+A_state['W'])\n",
    "    else:\n",
    "        print('Alice')\n",
    "    \n",
    "\n",
    "if __name__ == '__main__':\n",
    "    lines = []\n",
    "    for l in sys.stdin:\n",
    "        lines.append(l.rstrip('\\r\\n'))\n",
    "    main(lines)"
   ]
  },
  {
   "cell_type": "code",
   "execution_count": 17,
   "metadata": {
    "scrolled": true
   },
   "outputs": [
    {
     "name": "stdout",
     "output_type": "stream",
     "text": [
      "['W', 'U', ' ', 'R', 'T']\n"
     ]
    }
   ],
   "source": [
    "sys.stdin = 'WU RT'\n",
    "lines = []\n",
    "for l in sys.stdin:\n",
    "    lines.append(l.rstrip('\\r\\n'))\n",
    "print(lines)"
   ]
  },
  {
   "cell_type": "markdown",
   "metadata": {},
   "source": [
    "## やりたいこと\n",
    "空白で分けること。数字の連続はつなげること"
   ]
  },
  {
   "cell_type": "markdown",
   "metadata": {},
   "source": [
    "https://leetcode.com"
   ]
  },
  {
   "cell_type": "code",
   "execution_count": null,
   "metadata": {},
   "outputs": [],
   "source": [
    "nums = 3 1 100 200 300 0 201 200 100 10\n"
   ]
  },
  {
   "cell_type": "code",
   "execution_count": 32,
   "metadata": {
    "scrolled": true
   },
   "outputs": [
    {
     "name": "stdout",
     "output_type": "stream",
     "text": [
      "W,U, ,R,T\n"
     ]
    },
    {
     "data": {
      "text/plain": [
       "str"
      ]
     },
     "execution_count": 32,
     "metadata": {},
     "output_type": "execute_result"
    }
   ],
   "source": [
    "S_order = ','.join(lines)\n",
    "    \n",
    "print(S_order)\n",
    "type(S_order) #str\n",
    "\n"
   ]
  },
  {
   "cell_type": "code",
   "execution_count": 34,
   "metadata": {},
   "outputs": [
    {
     "name": "stdout",
     "output_type": "stream",
     "text": [
      "W U   R T\n"
     ]
    },
    {
     "data": {
      "text/plain": [
       "9"
      ]
     },
     "execution_count": 34,
     "metadata": {},
     "output_type": "execute_result"
    }
   ],
   "source": [
    "S_order = ' '.join(lines)\n",
    "    \n",
    "print(S_order)\n",
    "type(S_order) #str\n",
    "len(S_order)"
   ]
  },
  {
   "cell_type": "code",
   "execution_count": 53,
   "metadata": {},
   "outputs": [
    {
     "data": {
      "text/plain": [
       "['WU', 'RT']"
      ]
     },
     "execution_count": 53,
     "metadata": {},
     "output_type": "execute_result"
    }
   ],
   "source": [
    "S_order = (''.join(lines)).split()\n",
    "S_order"
   ]
  },
  {
   "cell_type": "code",
   "execution_count": 35,
   "metadata": {},
   "outputs": [
    {
     "name": "stdout",
     "output_type": "stream",
     "text": [
      "WU RT\n"
     ]
    },
    {
     "data": {
      "text/plain": [
       "5"
      ]
     },
     "execution_count": 35,
     "metadata": {},
     "output_type": "execute_result"
    }
   ],
   "source": [
    "S_order = ''.join(lines)\n",
    "    \n",
    "print(S_order)\n",
    "type(S_order) #str\n",
    "len(S_order)"
   ]
  },
  {
   "cell_type": "code",
   "execution_count": 51,
   "metadata": {},
   "outputs": [
    {
     "data": {
      "text/plain": [
       "['WU', 'RT']"
      ]
     },
     "execution_count": 51,
     "metadata": {},
     "output_type": "execute_result"
    }
   ],
   "source": [
    "S_order_li = S_order.split()\n",
    "S_order_li"
   ]
  },
  {
   "cell_type": "code",
   "execution_count": 45,
   "metadata": {},
   "outputs": [
    {
     "data": {
      "text/plain": [
       "['W', 'U', ',', 'R', 'T']"
      ]
     },
     "execution_count": 45,
     "metadata": {},
     "output_type": "execute_result"
    }
   ],
   "source": [
    "S_order_list = list(S_order.replace(' ', ','))\n",
    "S_order_list"
   ]
  },
  {
   "cell_type": "code",
   "execution_count": 46,
   "metadata": {},
   "outputs": [
    {
     "data": {
      "text/plain": [
       "'WU,RT'"
      ]
     },
     "execution_count": 46,
     "metadata": {},
     "output_type": "execute_result"
    }
   ],
   "source": [
    "S_order_str = S_order.replace(' ', ',')\n",
    "S_order_str"
   ]
  },
  {
   "cell_type": "code",
   "execution_count": 48,
   "metadata": {},
   "outputs": [
    {
     "data": {
      "text/plain": [
       "'W,U,/n,R,T'"
      ]
     },
     "execution_count": 48,
     "metadata": {},
     "output_type": "execute_result"
    }
   ],
   "source": [
    "S_order_p = ','.join(lines).replace(' ', '/n')\n",
    "S_order_p"
   ]
  },
  {
   "cell_type": "code",
   "execution_count": 49,
   "metadata": {},
   "outputs": [
    {
     "data": {
      "text/plain": [
       "'WU/nRT'"
      ]
     },
     "execution_count": 49,
     "metadata": {},
     "output_type": "execute_result"
    }
   ],
   "source": [
    "S_order_str = S_order_p.replace(',', '')\n",
    "S_order_str"
   ]
  },
  {
   "cell_type": "code",
   "execution_count": 50,
   "metadata": {},
   "outputs": [
    {
     "data": {
      "text/plain": [
       "['/n']"
      ]
     },
     "execution_count": 50,
     "metadata": {},
     "output_type": "execute_result"
    }
   ],
   "source": [
    "S_order_l = '/n'.split(S_order_str)\n",
    "S_order_l"
   ]
  },
  {
   "cell_type": "code",
   "execution_count": 3,
   "metadata": {},
   "outputs": [
    {
     "name": "stdout",
     "output_type": "stream",
     "text": [
      "0 3 1 100 200 300 0 201 200 100 10\n"
     ]
    },
    {
     "ename": "TypeError",
     "evalue": "sequence item 0: expected str instance, list found",
     "output_type": "error",
     "traceback": [
      "\u001b[0;31m---------------------------------------------------------------------------\u001b[0m",
      "\u001b[0;31mTypeError\u001b[0m                                 Traceback (most recent call last)",
      "\u001b[0;32m<ipython-input-3-2c88c32766d9>\u001b[0m in \u001b[0;36m<module>\u001b[0;34m\u001b[0m\n\u001b[1;32m      6\u001b[0m         \u001b[0;32mif\u001b[0m \u001b[0;32mnot\u001b[0m \u001b[0mi\u001b[0m \u001b[0;32min\u001b[0m \u001b[0mnums_\u001b[0m\u001b[0;34m:\u001b[0m\u001b[0;34m\u001b[0m\u001b[0;34m\u001b[0m\u001b[0m\n\u001b[1;32m      7\u001b[0m             \u001b[0mnums_\u001b[0m\u001b[0;34m.\u001b[0m\u001b[0mappend\u001b[0m\u001b[0;34m(\u001b[0m\u001b[0mi\u001b[0m\u001b[0;34m)\u001b[0m\u001b[0;34m\u001b[0m\u001b[0;34m\u001b[0m\u001b[0m\n\u001b[0;32m----> 8\u001b[0;31m \u001b[0mnums_\u001b[0m \u001b[0;34m=\u001b[0m \u001b[0;34m' '\u001b[0m\u001b[0;34m.\u001b[0m\u001b[0mjoin\u001b[0m\u001b[0;34m(\u001b[0m\u001b[0mnums_\u001b[0m\u001b[0;34m)\u001b[0m\u001b[0;34m\u001b[0m\u001b[0;34m\u001b[0m\u001b[0m\n\u001b[0m\u001b[1;32m      9\u001b[0m \u001b[0mprint\u001b[0m\u001b[0;34m(\u001b[0m\u001b[0mnums_\u001b[0m\u001b[0;34m)\u001b[0m\u001b[0;34m\u001b[0m\u001b[0;34m\u001b[0m\u001b[0m\n",
      "\u001b[0;31mTypeError\u001b[0m: sequence item 0: expected str instance, list found"
     ]
    }
   ],
   "source": [
    "nums = [input().split()] #list \n",
    "\n",
    "nums_ = []\n",
    "for i in nums:\n",
    "    if i != \"0\":\n",
    "        if not i in nums_:\n",
    "            nums_.append(i)\n",
    "nums_ = ' '.join(nums_)\n",
    "print(nums_)"
   ]
  },
  {
   "cell_type": "code",
   "execution_count": 6,
   "metadata": {},
   "outputs": [
    {
     "name": "stdout",
     "output_type": "stream",
     "text": [
      "0 3 1 100 200\n"
     ]
    }
   ],
   "source": [
    "L = [\"0\", \"3\", \"1\", \"100\", \"200\"]\n",
    "L=' '.join(L)\n",
    "print(L)"
   ]
  },
  {
   "cell_type": "code",
   "execution_count": 10,
   "metadata": {},
   "outputs": [
    {
     "name": "stdout",
     "output_type": "stream",
     "text": [
      "0 3 1 100 200\n",
      "3 1 100 200\n"
     ]
    }
   ],
   "source": [
    "nums = [int(e) for e in input().split()]\n",
    "\n",
    "nums_ = []\n",
    "for i in nums:\n",
    "    if i != 0:\n",
    "        if not i in nums_:\n",
    "            nums_.append(str(i))\n",
    "            \n",
    "            \n",
    "nums_ = ' '.join(nums_)            \n",
    "print(nums_)"
   ]
  },
  {
   "cell_type": "code",
   "execution_count": 16,
   "metadata": {},
   "outputs": [
    {
     "name": "stdout",
     "output_type": "stream",
     "text": [
      "4\n",
      "2030-01-14 cherrypie 1150 5\n",
      "2030-01-14 cherrypie 1150 6\n",
      "2030-01-15 cherrypie 1150 3\n",
      "2030-01-15 tiramisu 980 2\n"
     ]
    }
   ],
   "source": [
    "N= int(input())\n",
    "mylist = []\n",
    "for i in range(N):\n",
    "    val = input(\"\")\n",
    "    if val:\n",
    "        mylist.append(val.split( ))"
   ]
  },
  {
   "cell_type": "code",
   "execution_count": 17,
   "metadata": {},
   "outputs": [
    {
     "data": {
      "text/plain": [
       "[['2030-01-14', 'cherrypie', '1150', '5'],\n",
       " ['2030-01-14', 'cherrypie', '1150', '6'],\n",
       " ['2030-01-15', 'cherrypie', '1150', '3'],\n",
       " ['2030-01-15', 'tiramisu', '980', '2']]"
      ]
     },
     "execution_count": 17,
     "metadata": {},
     "output_type": "execute_result"
    }
   ],
   "source": [
    "mylist"
   ]
  },
  {
   "cell_type": "code",
   "execution_count": 27,
   "metadata": {
    "scrolled": true
   },
   "outputs": [
    {
     "data": {
      "text/html": [
       "<div>\n",
       "<style scoped>\n",
       "    .dataframe tbody tr th:only-of-type {\n",
       "        vertical-align: middle;\n",
       "    }\n",
       "\n",
       "    .dataframe tbody tr th {\n",
       "        vertical-align: top;\n",
       "    }\n",
       "\n",
       "    .dataframe thead th {\n",
       "        text-align: right;\n",
       "    }\n",
       "</style>\n",
       "<table border=\"1\" class=\"dataframe\">\n",
       "  <thead>\n",
       "    <tr style=\"text-align: right;\">\n",
       "      <th></th>\n",
       "      <th>date</th>\n",
       "      <th>shouhin</th>\n",
       "      <th>price</th>\n",
       "      <th>nums</th>\n",
       "    </tr>\n",
       "  </thead>\n",
       "  <tbody>\n",
       "    <tr>\n",
       "      <td>0</td>\n",
       "      <td>2030-01-14</td>\n",
       "      <td>cherrypie</td>\n",
       "      <td>1150</td>\n",
       "      <td>5</td>\n",
       "    </tr>\n",
       "    <tr>\n",
       "      <td>1</td>\n",
       "      <td>2030-01-14</td>\n",
       "      <td>cherrypie</td>\n",
       "      <td>1150</td>\n",
       "      <td>6</td>\n",
       "    </tr>\n",
       "    <tr>\n",
       "      <td>2</td>\n",
       "      <td>2030-01-15</td>\n",
       "      <td>cherrypie</td>\n",
       "      <td>1150</td>\n",
       "      <td>3</td>\n",
       "    </tr>\n",
       "    <tr>\n",
       "      <td>3</td>\n",
       "      <td>2030-01-15</td>\n",
       "      <td>tiramisu</td>\n",
       "      <td>980</td>\n",
       "      <td>2</td>\n",
       "    </tr>\n",
       "  </tbody>\n",
       "</table>\n",
       "</div>"
      ],
      "text/plain": [
       "         date    shouhin price nums\n",
       "0  2030-01-14  cherrypie  1150    5\n",
       "1  2030-01-14  cherrypie  1150    6\n",
       "2  2030-01-15  cherrypie  1150    3\n",
       "3  2030-01-15   tiramisu   980    2"
      ]
     },
     "execution_count": 27,
     "metadata": {},
     "output_type": "execute_result"
    }
   ],
   "source": [
    "import pandas\n",
    "mydf = pandas.DataFrame(mylist)\n",
    "mydf\n",
    "\n",
    "mydf.columns = ['date', 'shouhin', 'price', 'nums']\n",
    "mydf"
   ]
  },
  {
   "cell_type": "code",
   "execution_count": 31,
   "metadata": {
    "scrolled": true
   },
   "outputs": [
    {
     "data": {
      "text/plain": [
       "0    1150\n",
       "1    1150\n",
       "2    1150\n",
       "3     980\n",
       "Name: price, dtype: int64"
      ]
     },
     "execution_count": 31,
     "metadata": {},
     "output_type": "execute_result"
    }
   ],
   "source": [
    "mydf['nums'].astype('int')\n",
    "mydf['price'].astype('int')"
   ]
  },
  {
   "cell_type": "code",
   "execution_count": 46,
   "metadata": {},
   "outputs": [
    {
     "data": {
      "text/plain": [
       "2"
      ]
     },
     "execution_count": 46,
     "metadata": {},
     "output_type": "execute_result"
    }
   ],
   "source": [
    "grouped = mydf.groupby(['date', 'shouhin'])\n",
    "\n",
    "se = grouped.size() #pandas.core.series.Series\n",
    "\n",
    "max(se)"
   ]
  },
  {
   "cell_type": "code",
   "execution_count": 47,
   "metadata": {},
   "outputs": [
    {
     "name": "stdout",
     "output_type": "stream",
     "text": [
      "2 4 6 8\n"
     ]
    },
    {
     "data": {
      "text/plain": [
       "[2, 4, 6, 8]"
      ]
     },
     "execution_count": 47,
     "metadata": {},
     "output_type": "execute_result"
    }
   ],
   "source": [
    "a=[int(x) for x in input().split()]\n",
    "a"
   ]
  },
  {
   "cell_type": "code",
   "execution_count": null,
   "metadata": {},
   "outputs": [],
   "source": []
  }
 ],
 "metadata": {
  "kernelspec": {
   "display_name": "Python 3",
   "language": "python",
   "name": "python3"
  },
  "language_info": {
   "codemirror_mode": {
    "name": "ipython",
    "version": 3
   },
   "file_extension": ".py",
   "mimetype": "text/x-python",
   "name": "python",
   "nbconvert_exporter": "python",
   "pygments_lexer": "ipython3",
   "version": "3.7.3"
  }
 },
 "nbformat": 4,
 "nbformat_minor": 2
}
