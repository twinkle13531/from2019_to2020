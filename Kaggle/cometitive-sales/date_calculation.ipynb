{
 "cells": [
  {
   "cell_type": "markdown",
   "metadata": {},
   "source": [
    "puthon標準にdatetimeが入っている\n",
    "\n",
    "datetime型は、matplotlibやplotly等でグラフを作成する際の軸にもそのまま使える\n",
    "\n",
    "datetimeで日付の足し算、引き算の計算を行う"
   ]
  },
  {
   "cell_type": "markdown",
   "metadata": {},
   "source": [
    "\n",
    "\n",
    "dtype\n",
    "\n",
    "\n",
    "'b'       boolean\n",
    "\n",
    "'i'       (signed) integer\n",
    "\n",
    "'u'       unsigned integer\n",
    "\n",
    "'f'       floating-point\n",
    "\n",
    "'c'       complex-floating point\n",
    "\n",
    "'O'       (Python) objects\n",
    "\n",
    "'S', 'a'  (byte-)string\n",
    "\n",
    "'U'       Unicode\n",
    "\n",
    "'V'       raw data (void)"
   ]
  },
  {
   "cell_type": "code",
   "execution_count": null,
   "metadata": {},
   "outputs": [],
   "source": [
    "import datetime"
   ]
  },
  {
   "cell_type": "code",
   "execution_count": 2,
   "metadata": {},
   "outputs": [
    {
     "name": "stdout",
     "output_type": "stream",
     "text": [
      "2019-02-16\n"
     ]
    }
   ],
   "source": [
    "today = datetime.date.today()\n",
    "day_after_tomorrow = datetime.timedelta(days=2)\n",
    "\n",
    "print(today+day_after_tomorrow)"
   ]
  },
  {
   "cell_type": "code",
   "execution_count": 3,
   "metadata": {},
   "outputs": [
    {
     "name": "stdout",
     "output_type": "stream",
     "text": [
      "今日は明日よりも後:False\n",
      "昨日は今日よりも前:True\n"
     ]
    }
   ],
   "source": [
    "tomorrow = today + datetime.timedelta(days=1)\n",
    "yestarday = today - datetime.timedelta(days=1)\n",
    " \n",
    "print(\"今日は明日よりも後:\"+str(today>tomorrow))\n",
    "print(\"昨日は今日よりも前:\" +str(yestarday<today))"
   ]
  },
  {
   "cell_type": "code",
   "execution_count": 4,
   "metadata": {},
   "outputs": [
    {
     "name": "stdout",
     "output_type": "stream",
     "text": [
      "2019-02-14\n",
      "2019/02/14\n"
     ]
    }
   ],
   "source": [
    "today1= datetime.date.today()\n",
    "today2= \"{0:%Y/%m/%d}\".format(today1)\n",
    "\n",
    "print(today1)\n",
    "print(today2)"
   ]
  },
  {
   "cell_type": "code",
   "execution_count": 5,
   "metadata": {},
   "outputs": [
    {
     "name": "stdout",
     "output_type": "stream",
     "text": [
      "<class 'datetime.datetime'>\n",
      "<class 'str'>\n"
     ]
    }
   ],
   "source": [
    "before = datetime.datetime.now()\n",
    "after = before.strftime('%Y/%m/%d %H:%M:%S') #strftimeを使って現在の日時を日付型から文字列型へ変換...引数には指定したいフォーマットを入力\n",
    " \n",
    "print(type(before)) #type関数では引数に渡したものの型を調べた\n",
    "print(type(after))"
   ]
  },
  {
   "cell_type": "code",
   "execution_count": 6,
   "metadata": {},
   "outputs": [
    {
     "name": "stdout",
     "output_type": "stream",
     "text": [
      "<class 'str'>\n",
      "<class 'datetime.datetime'>\n"
     ]
    }
   ],
   "source": [
    "before = '2017-05-23 12:47:23'\n",
    "after = datetime.datetime.strptime(before, '%Y-%m-%d %H:%M:%S') #strptime(変換したい文字列, ォーマットを表す文字列)\n",
    " \n",
    "print(type(before))\n",
    "print(type(after))"
   ]
  },
  {
   "cell_type": "code",
   "execution_count": null,
   "metadata": {},
   "outputs": [],
   "source": [
    "#文字列stringからdatetimeへ変換\n",
    "\n",
    "# 例1\n",
    "string_date_1 = '2017/07/01'\n",
    "datetime.datetime.strptime(string_date_1, '%Y/%m/%d') # => datetime.datetime(2017, 7, 1, 0, 0)\n",
    "\n",
    "# 例2\n",
    "string_date_2 = '2017/07/01 12:06:19'\n",
    "datetime.datetime.strptime(string_date_2, '%Y/%m/%d %H:%M:%S') # => datetime.datetime(2017, 7, 1, 12, 6, 19)\n",
    "\n",
    "# 例3\n",
    "string_date_3 = '2017-07-01 12:06:19'\n",
    "datetime.datetime.strptime(string_date_3, '%Y-%m-%d %H:%M:%S') # => datetime.datetime(2017, 7, 1, 12, 6, 19)"
   ]
  }
 ],
 "metadata": {
  "kernelspec": {
   "display_name": "Python 3",
   "language": "python",
   "name": "python3"
  },
  "language_info": {
   "codemirror_mode": {
    "name": "ipython",
    "version": 3
   },
   "file_extension": ".py",
   "mimetype": "text/x-python",
   "name": "python",
   "nbconvert_exporter": "python",
   "pygments_lexer": "ipython3",
   "version": "3.7.3"
  }
 },
 "nbformat": 4,
 "nbformat_minor": 2
}
