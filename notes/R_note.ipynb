{
 "cells": [
  {
   "cell_type": "markdown",
   "metadata": {},
   "source": [
    "時間のかかり具合\n",
    "\n",
    "data.frameの場合は、\n",
    "Reduce < rowSums < apply < for"
   ]
  },
  {
   "cell_type": "code",
   "execution_count": 1,
   "metadata": {
    "scrolled": true
   },
   "outputs": [
    {
     "data": {
      "text/plain": [
       "               _                           \n",
       "platform       x86_64-apple-darwin15.6.0   \n",
       "arch           x86_64                      \n",
       "os             darwin15.6.0                \n",
       "system         x86_64, darwin15.6.0        \n",
       "status                                     \n",
       "major          3                           \n",
       "minor          6.3                         \n",
       "year           2020                        \n",
       "month          02                          \n",
       "day            29                          \n",
       "svn rev        77875                       \n",
       "language       R                           \n",
       "version.string R version 3.6.3 (2020-02-29)\n",
       "nickname       Holding the Windsock        "
      ]
     },
     "metadata": {},
     "output_type": "display_data"
    }
   ],
   "source": [
    "version"
   ]
  },
  {
   "cell_type": "markdown",
   "metadata": {},
   "source": [
    "```\n",
    "if (!requireNamespace(\"BiocManager\", quietly = TRUE))\n",
    "    install.packages(\"BiocManager\")\n",
    "BiocManager::install()\n",
    "```\n",
    "\n",
    "```\n",
    "Bioconductor version 3.10 (BiocManager 1.30.10), R 3.6.3 (2020-02-29)\n",
    "Old packages: 'backports', 'BH', 'callr', 'clipr', 'curl', 'devtools', 'dplyr',\n",
    "  'foreach', 'foreign', 'fs', 'gh', 'glmnet', 'IRkernel', 'lattice', 'mime',\n",
    "  'nlme', 'nnet', 'openssl', 'pkgbuild', 'pkgconfig', 'plyr', 'prettyunits',\n",
    "  'processx', 'ps', 'R6', 'remotes', 'rstudioapi', 'scales', 'survival', 'sys',\n",
    "  'tidyselect', 'usethis', 'uuid', 'whisker', 'yaml'\n",
    "```"
   ]
  },
  {
   "cell_type": "markdown",
   "metadata": {},
   "source": [
    "### 今日の課題\n",
    "```stringr```の中のライブラリが使えない"
   ]
  },
  {
   "cell_type": "markdown",
   "metadata": {},
   "source": [
    "```\n",
    "install.packages(\"stringr\", dependencies = TRUE)\n",
    "\n",
    "also installing the dependencies ‘rex’, ‘covr’, ‘htmlwidgets’\n",
    "\n",
    "\n",
    "The downloaded binary packages are in\n",
    "\t/var/folders/fn/nyxc8hg15671d8q7mcn194mc0000gn/T//Rtmp9x3Eyq/downloaded_packages\n",
    "```"
   ]
  },
  {
   "cell_type": "code",
   "execution_count": 32,
   "metadata": {},
   "outputs": [
    {
     "name": "stderr",
     "output_type": "stream",
     "text": [
      "Downloading GitHub repo tidyverse/stringr@master\n"
     ]
    },
    {
     "name": "stdout",
     "output_type": "stream",
     "text": [
      "\n",
      "\u001b[32m✔\u001b[39m  \u001b[38;5;247mchecking for file ‘/private/var/folders/fn/nyxc8hg15671d8q7mcn194mc0000gn/T/Rtmp9x3Eyq/remotes12247cbd8e8/tidyverse-stringr-3481d23/DESCRIPTION’\u001b[39m\u001b[36m\u001b[39m\n",
      "\u001b[38;5;247m─\u001b[39m\u001b[38;5;247m  \u001b[39m\u001b[38;5;247mpreparing ‘stringr’:\u001b[39m\u001b[36m\u001b[39m\n",
      "\u001b[32m✔\u001b[39m  \u001b[38;5;247mchecking DESCRIPTION meta-information\u001b[39m\u001b[36m\u001b[39m\n",
      "\u001b[38;5;247m─\u001b[39m\u001b[38;5;247m  \u001b[39m\u001b[38;5;247mchecking for LF line-endings in source and make files and shell scripts\u001b[39m\u001b[36m\u001b[39m\n",
      "\u001b[38;5;247m─\u001b[39m\u001b[38;5;247m  \u001b[39m\u001b[38;5;247mchecking for empty or unneeded directories\u001b[39m\u001b[36m\u001b[39m\n",
      "   Removed empty directory ‘stringr/.github/workflows’\n",
      "   Removed empty directory ‘stringr/.github’\n",
      "\u001b[38;5;247m─\u001b[39m\u001b[38;5;247m  \u001b[39m\u001b[38;5;247mlooking to see if a ‘data/datalist’ file should be added\u001b[39m\u001b[36m\u001b[39m\n",
      "\u001b[38;5;247m─\u001b[39m\u001b[38;5;247m  \u001b[39m\u001b[38;5;247mbuilding ‘stringr_1.4.0.9000.tar.gz’\u001b[39m\u001b[36m\u001b[39m\n",
      "   \n",
      "\r"
     ]
    }
   ],
   "source": [
    "#devtools::install_github(\"tidyverse/stringr\")"
   ]
  },
  {
   "cell_type": "code",
   "execution_count": 28,
   "metadata": {},
   "outputs": [
    {
     "data": {
      "text/html": [
       "<style>\n",
       ".list-inline {list-style: none; margin:0; padding: 0}\n",
       ".list-inline>li {display: inline-block}\n",
       ".list-inline>li:not(:last-child)::after {content: \"\\00b7\"; padding: 0 .5ex}\n",
       "</style>\n",
       "<ol class=list-inline><li>'1'</li><li>'2'</li><li>'3'</li><li>'4'</li></ol>\n"
      ],
      "text/latex": [
       "\\begin{enumerate*}\n",
       "\\item '1'\n",
       "\\item '2'\n",
       "\\item '3'\n",
       "\\item '4'\n",
       "\\end{enumerate*}\n"
      ],
      "text/markdown": [
       "1. '1'\n",
       "2. '2'\n",
       "3. '3'\n",
       "4. '4'\n",
       "\n",
       "\n"
      ],
      "text/plain": [
       "[1] \"1\" \"2\" \"3\" \"4\""
      ]
     },
     "metadata": {},
     "output_type": "display_data"
    },
    {
     "data": {
      "text/html": [
       "'character'"
      ],
      "text/latex": [
       "'character'"
      ],
      "text/markdown": [
       "'character'"
      ],
      "text/plain": [
       "[1] \"character\""
      ]
     },
     "metadata": {},
     "output_type": "display_data"
    },
    {
     "data": {
      "text/html": [
       "'character'"
      ],
      "text/latex": [
       "'character'"
      ],
      "text/markdown": [
       "'character'"
      ],
      "text/plain": [
       "[1] \"character\""
      ]
     },
     "metadata": {},
     "output_type": "display_data"
    }
   ],
   "source": [
    "( y <- paste(1:4) )\n",
    "class(y)\n",
    "y <- as.vector(y)\n",
    "class(y)"
   ]
  },
  {
   "cell_type": "code",
   "execution_count": 30,
   "metadata": {
    "scrolled": true
   },
   "outputs": [
    {
     "data": {
      "text/html": [
       "'/usr/local/bin'"
      ],
      "text/latex": [
       "'/usr/local/bin'"
      ],
      "text/markdown": [
       "'/usr/local/bin'"
      ],
      "text/plain": [
       "[1] \"/usr/local/bin\""
      ]
     },
     "metadata": {},
     "output_type": "display_data"
    },
    {
     "data": {
      "text/html": [
       "<style>\n",
       ".list-inline {list-style: none; margin:0; padding: 0}\n",
       ".list-inline>li {display: inline-block}\n",
       ".list-inline>li:not(:last-child)::after {content: \"\\00b7\"; padding: 0 .5ex}\n",
       "</style>\n",
       "<ol class=list-inline><li>'1'</li><li>'2'</li><li>'3'</li><li>'4'</li></ol>\n"
      ],
      "text/latex": [
       "\\begin{enumerate*}\n",
       "\\item '1'\n",
       "\\item '2'\n",
       "\\item '3'\n",
       "\\item '4'\n",
       "\\end{enumerate*}\n"
      ],
      "text/markdown": [
       "1. '1'\n",
       "2. '2'\n",
       "3. '3'\n",
       "4. '4'\n",
       "\n",
       "\n"
      ],
      "text/plain": [
       "[1] \"1\" \"2\" \"3\" \"4\""
      ]
     },
     "metadata": {},
     "output_type": "display_data"
    },
    {
     "data": {
      "text/html": [
       "'character'"
      ],
      "text/latex": [
       "'character'"
      ],
      "text/markdown": [
       "'character'"
      ],
      "text/plain": [
       "[1] \"character\""
      ]
     },
     "metadata": {},
     "output_type": "display_data"
    },
    {
     "data": {
      "text/html": [
       "'1abc2abc3abc4'"
      ],
      "text/latex": [
       "'1abc2abc3abc4'"
      ],
      "text/markdown": [
       "'1abc2abc3abc4'"
      ],
      "text/plain": [
       "[1] \"1abc2abc3abc4\""
      ]
     },
     "metadata": {},
     "output_type": "display_data"
    },
    {
     "data": {
      "text/html": [
       "'1234'"
      ],
      "text/latex": [
       "'1234'"
      ],
      "text/markdown": [
       "'1234'"
      ],
      "text/plain": [
       "[1] \"1234\""
      ]
     },
     "metadata": {},
     "output_type": "display_data"
    },
    {
     "data": {
      "text/html": [
       "'character'"
      ],
      "text/latex": [
       "'character'"
      ],
      "text/markdown": [
       "'character'"
      ],
      "text/plain": [
       "[1] \"character\""
      ]
     },
     "metadata": {},
     "output_type": "display_data"
    }
   ],
   "source": [
    "paste(\"/usr\", \"local\", \"bin\", sep = \"/\")   # / を間に挟んでつなぐ\n",
    "( x <- paste(1:4) )\n",
    "class(x)\n",
    "paste(x, collapse=\"abc\" )\n",
    "paste(x, collapse=\"\" )\n",
    "class(y)"
   ]
  },
  {
   "cell_type": "markdown",
   "metadata": {},
   "source": [
    "Paste()とpaste0()は両方ともベースパッケージの関数ですが、str_c()はストリンガーパッケージからのものです。\n",
    "\n",
    "私はそれをテスト/マイクロベンチマークしませんでしたが、私の経験から、ライアンstr_c()の方が一般に速いことに同意します。"
   ]
  },
  {
   "cell_type": "code",
   "execution_count": 24,
   "metadata": {
    "scrolled": true
   },
   "outputs": [
    {
     "data": {
      "text/html": [
       "'kosakichitogemarika'"
      ],
      "text/latex": [
       "'kosakichitogemarika'"
      ],
      "text/markdown": [
       "'kosakichitogemarika'"
      ],
      "text/plain": [
       "[1] \"kosakichitogemarika\""
      ]
     },
     "metadata": {},
     "output_type": "display_data"
    }
   ],
   "source": [
    "x <- c(\"kosaki\", \"chitoge\", \"marika\")\n",
    "paste(x,collapse = \"\")"
   ]
  },
  {
   "cell_type": "code",
   "execution_count": 19,
   "metadata": {
    "scrolled": true
   },
   "outputs": [
    {
     "data": {
      "text/html": [
       "<ol>\n",
       "\t<li><style>\n",
       ".list-inline {list-style: none; margin:0; padding: 0}\n",
       ".list-inline>li {display: inline-block}\n",
       ".list-inline>li:not(:last-child)::after {content: \"\\00b7\"; padding: 0 .5ex}\n",
       "</style>\n",
       "<ol class=list-inline><li>'TCGA'</li><li>'A8'</li><li>'A092'</li><li>'01'</li></ol>\n",
       "</li>\n",
       "</ol>\n"
      ],
      "text/latex": [
       "\\begin{enumerate}\n",
       "\\item \\begin{enumerate*}\n",
       "\\item 'TCGA'\n",
       "\\item 'A8'\n",
       "\\item 'A092'\n",
       "\\item '01'\n",
       "\\end{enumerate*}\n",
       "\n",
       "\\end{enumerate}\n"
      ],
      "text/markdown": [
       "1. 1. 'TCGA'\n",
       "2. 'A8'\n",
       "3. 'A092'\n",
       "4. '01'\n",
       "\n",
       "\n",
       "\n",
       "\n",
       "\n"
      ],
      "text/plain": [
       "[[1]]\n",
       "[1] \"TCGA\" \"A8\"   \"A092\" \"01\"  \n"
      ]
     },
     "metadata": {},
     "output_type": "display_data"
    }
   ],
   "source": [
    "library(stringr)\n",
    "geno_seq <- str_split('TCGA.A8.A092.01', pattern = \"[[:punct:]]\")\n",
    "geno_seq"
   ]
  },
  {
   "cell_type": "code",
   "execution_count": 21,
   "metadata": {
    "scrolled": true
   },
   "outputs": [
    {
     "data": {
      "text/html": [
       "'TCGAA8A09201'"
      ],
      "text/latex": [
       "'TCGAA8A09201'"
      ],
      "text/markdown": [
       "'TCGAA8A09201'"
      ],
      "text/plain": [
       "[1] \"TCGAA8A09201\""
      ]
     },
     "metadata": {},
     "output_type": "display_data"
    }
   ],
   "source": [
    "(gsub(\"[[:punct:]]\", \"\", \"TCGA.A8.A092.01\"))"
   ]
  },
  {
   "cell_type": "code",
   "execution_count": 46,
   "metadata": {},
   "outputs": [
    {
     "ename": "ERROR",
     "evalue": "Error in chartr(\".\", \"\", \"TA.GCAT\"):  'old' が 'new' より長いです \n",
     "output_type": "error",
     "traceback": [
      "Error in chartr(\".\", \"\", \"TA.GCAT\"):  'old' が 'new' より長いです \nTraceback:\n",
      "1. chartr(\".\", \"\", \"TA.GCAT\")"
     ]
    }
   ],
   "source": [
    "chartr(\".\", \"\", \"TA.GCAT\")"
   ]
  },
  {
   "cell_type": "code",
   "execution_count": 16,
   "metadata": {
    "scrolled": true
   },
   "outputs": [],
   "source": [
    "A <- c(\"rs1\", \"rs2\", \"rs3\", \"rs4\")\n",
    "B <- c(\"rs5\")\n",
    "Int <- intersect(A, B)"
   ]
  },
  {
   "cell_type": "code",
   "execution_count": 18,
   "metadata": {},
   "outputs": [
    {
     "ename": "ERROR",
     "evalue": "Error in if (Int == \"\") print(\"NULL\"):  引数の長さが 0 です \n",
     "output_type": "error",
     "traceback": [
      "Error in if (Int == \"\") print(\"NULL\"):  引数の長さが 0 です \nTraceback:\n"
     ]
    }
   ],
   "source": [
    "if(Int == \"\")print('NULL')"
   ]
  },
  {
   "cell_type": "code",
   "execution_count": null,
   "metadata": {},
   "outputs": [],
   "source": [
    "dna <- c(\"AAGCAT\", \"TAATAA\", \"CCTAT\")\n",
    "\n",
    "sub(\"TA\", \".\", \"AAGCAT\")\n",
    "\n",
    "gsub(\"TA\", \"ta\", dna)\n",
    "\n",
    "\n",
    "chartr(\"ACGT\", \"TGCA\", dna)\n"
   ]
  },
  {
   "cell_type": "code",
   "execution_count": 47,
   "metadata": {},
   "outputs": [
    {
     "data": {
      "text/html": [
       "'　あ　い'"
      ],
      "text/latex": [
       "'　あ　い'"
      ],
      "text/markdown": [
       "'　あ　い'"
      ],
      "text/plain": [
       "[1] \"　あ　い\""
      ]
     },
     "metadata": {},
     "output_type": "display_data"
    },
    {
     "data": {
      "text/html": [
       "'あい '"
      ],
      "text/latex": [
       "'あい '"
      ],
      "text/markdown": [
       "'あい '"
      ],
      "text/plain": [
       "[1] \"あい \""
      ]
     },
     "metadata": {},
     "output_type": "display_data"
    },
    {
     "data": {
      "text/html": [
       "'あい'"
      ],
      "text/latex": [
       "'あい'"
      ],
      "text/markdown": [
       "'あい'"
      ],
      "text/plain": [
       "[1] \"あい\""
      ]
     },
     "metadata": {},
     "output_type": "display_data"
    }
   ],
   "source": [
    "str<-\"　あ　い \"    #　　　(ＳＰＣ)あ(ＳＰＣ)い(SPC)\n",
    "(gsub(\" \",\"\",str))  # 　　半角空白削除\n",
    "(gsub(\"　\",\"\",str)) # 　　全角空白削除\n",
    "(gsub(\"[[:blank:]]\",\"\",str)) # 全角半角空白削除"
   ]
  },
  {
   "cell_type": "code",
   "execution_count": 40,
   "metadata": {
    "scrolled": true
   },
   "outputs": [
    {
     "data": {
      "text/html": [
       "<span style=white-space:pre-wrap>'               '</span>"
      ],
      "text/latex": [
       "'               '"
      ],
      "text/markdown": [
       "<span style=white-space:pre-wrap>'               '</span>"
      ],
      "text/plain": [
       "[1] \"               \""
      ]
     },
     "metadata": {},
     "output_type": "display_data"
    }
   ],
   "source": [
    "geno_seq <- gsub(\".\", \"\", \"TCGA.A8.A092.01\")\n",
    "geno_seq"
   ]
  },
  {
   "cell_type": "code",
   "execution_count": 19,
   "metadata": {},
   "outputs": [
    {
     "ename": "ERROR",
     "evalue": "Error in paste(geno_seq[1]):  オブジェクト 'geno_seq' がありません \n",
     "output_type": "error",
     "traceback": [
      "Error in paste(geno_seq[1]):  オブジェクト 'geno_seq' がありません \nTraceback:\n",
      "1. paste(geno_seq[1])"
     ]
    }
   ],
   "source": [
    "paste(geno_seq[1])"
   ]
  },
  {
   "cell_type": "code",
   "execution_count": null,
   "metadata": {},
   "outputs": [],
   "source": [
    "paste(geno_seq, sep = \"\")"
   ]
  },
  {
   "cell_type": "code",
   "execution_count": 35,
   "metadata": {},
   "outputs": [
    {
     "data": {
      "text/html": [
       "'character'"
      ],
      "text/latex": [
       "'character'"
      ],
      "text/markdown": [
       "'character'"
      ],
      "text/plain": [
       "[1] \"character\""
      ]
     },
     "metadata": {},
     "output_type": "display_data"
    }
   ],
   "source": [
    "class('TCGA.A1.A0SB.01')"
   ]
  },
  {
   "cell_type": "code",
   "execution_count": 34,
   "metadata": {
    "scrolled": true
   },
   "outputs": [
    {
     "data": {
      "text/html": [
       "'character'"
      ],
      "text/latex": [
       "'character'"
      ],
      "text/markdown": [
       "'character'"
      ],
      "text/plain": [
       "[1] \"character\""
      ]
     },
     "metadata": {},
     "output_type": "display_data"
    }
   ],
   "source": [
    "class('TCGA-A1-A0SB-01')"
   ]
  },
  {
   "cell_type": "code",
   "execution_count": 33,
   "metadata": {},
   "outputs": [
    {
     "ename": "ERROR",
     "evalue": "Error in str_split(\"TCGA.A8.A092.01\", pattern = \"[:punct:]\"):  関数 \"str_split\" を見つけることができませんでした \n",
     "output_type": "error",
     "traceback": [
      "Error in str_split(\"TCGA.A8.A092.01\", pattern = \"[:punct:]\"):  関数 \"str_split\" を見つけることができませんでした \nTraceback:\n"
     ]
    }
   ],
   "source": [
    "geno_seq1 <- str_split('TCGA.A8.A092.01', pattern = \"[:punct:]\")\n",
    "geno_seq1\n",
    "class(geno_seq1) #list"
   ]
  },
  {
   "cell_type": "code",
   "execution_count": 3,
   "metadata": {},
   "outputs": [
    {
     "data": {
      "text/html": [
       "'numeric'"
      ],
      "text/latex": [
       "'numeric'"
      ],
      "text/markdown": [
       "'numeric'"
      ],
      "text/plain": [
       "[1] \"numeric\""
      ]
     },
     "metadata": {},
     "output_type": "display_data"
    },
    {
     "data": {
      "text/html": [
       "1"
      ],
      "text/latex": [
       "1"
      ],
      "text/markdown": [
       "1"
      ],
      "text/plain": [
       "[1] 1"
      ]
     },
     "metadata": {},
     "output_type": "display_data"
    },
    {
     "data": {
      "text/html": [
       "FALSE"
      ],
      "text/latex": [
       "FALSE"
      ],
      "text/markdown": [
       "FALSE"
      ],
      "text/plain": [
       "[1] FALSE"
      ]
     },
     "metadata": {},
     "output_type": "display_data"
    },
    {
     "data": {
      "text/html": [
       "TRUE"
      ],
      "text/latex": [
       "TRUE"
      ],
      "text/markdown": [
       "TRUE"
      ],
      "text/plain": [
       "[1] TRUE"
      ]
     },
     "metadata": {},
     "output_type": "display_data"
    }
   ],
   "source": [
    "x <- 1;  y <- 1:4\n",
    "class(x)\n",
    "intersect(x, y)                   # 積集合\n",
    "setequal(x, y)                    # 集合として等しいか否か\n",
    "is.element(x, y)                  # x 中の各要素は集合 y に含まれるか否か"
   ]
  },
  {
   "cell_type": "code",
   "execution_count": 4,
   "metadata": {},
   "outputs": [
    {
     "data": {
      "text/html": [
       "<style>\n",
       ".list-inline {list-style: none; margin:0; padding: 0}\n",
       ".list-inline>li {display: inline-block}\n",
       ".list-inline>li:not(:last-child)::after {content: \"\\00b7\"; padding: 0 .5ex}\n",
       "</style>\n",
       "<ol class=list-inline><li>2</li><li>3</li><li>4</li><li>5</li></ol>\n"
      ],
      "text/latex": [
       "\\begin{enumerate*}\n",
       "\\item 2\n",
       "\\item 3\n",
       "\\item 4\n",
       "\\item 5\n",
       "\\end{enumerate*}\n"
      ],
      "text/markdown": [
       "1. 2\n",
       "2. 3\n",
       "3. 4\n",
       "4. 5\n",
       "\n",
       "\n"
      ],
      "text/plain": [
       "[1] 2 3 4 5"
      ]
     },
     "metadata": {},
     "output_type": "display_data"
    },
    {
     "data": {
      "text/html": [
       "<style>\n",
       ".list-inline {list-style: none; margin:0; padding: 0}\n",
       ".list-inline>li {display: inline-block}\n",
       ".list-inline>li:not(:last-child)::after {content: \"\\00b7\"; padding: 0 .5ex}\n",
       "</style>\n",
       "<ol class=list-inline><li>2</li><li>4</li><li>5</li></ol>\n"
      ],
      "text/latex": [
       "\\begin{enumerate*}\n",
       "\\item 2\n",
       "\\item 4\n",
       "\\item 5\n",
       "\\end{enumerate*}\n"
      ],
      "text/markdown": [
       "1. 2\n",
       "2. 4\n",
       "3. 5\n",
       "\n",
       "\n"
      ],
      "text/plain": [
       "[1] 2 4 5"
      ]
     },
     "metadata": {},
     "output_type": "display_data"
    },
    {
     "data": {
      "text/html": [],
      "text/latex": [],
      "text/markdown": [],
      "text/plain": [
       "numeric(0)"
      ]
     },
     "metadata": {},
     "output_type": "display_data"
    },
    {
     "data": {
      "text/html": [],
      "text/latex": [],
      "text/markdown": [],
      "text/plain": [
       "numeric(0)"
      ]
     },
     "metadata": {},
     "output_type": "display_data"
    },
    {
     "data": {
      "text/html": [],
      "text/latex": [],
      "text/markdown": [],
      "text/plain": [
       "integer(0)"
      ]
     },
     "metadata": {},
     "output_type": "display_data"
    }
   ],
   "source": [
    "x <- c(1, 2, 3, 4, 5)\n",
    "x[2:5]\n",
    "x[c(-1,-3)]\n",
    "x[30 < x]\n",
    "x[10 < x & x < 40]\n",
    "(1:length(x))[10 < x & x < 40]"
   ]
  },
  {
   "cell_type": "code",
   "execution_count": 21,
   "metadata": {},
   "outputs": [
    {
     "name": "stdout",
     "output_type": "stream",
     "text": [
      "integer(0)\n",
      "[1] 3\n",
      "[1] 3\n",
      "[1] 3\n"
     ]
    }
   ],
   "source": [
    "aa = list(1, 3, 4, 5)\n",
    "bb = list(2, 4, 6, 8) #bbの要素で、aaに含まれるのはどれか？\n",
    "\n",
    "aa_num <- list()\n",
    "for (i in 1:length(bb)){\n",
    "    if (is.element(bb[i], aa))\n",
    "    aa_num_each <- ((1:length(aa))[bb[i] == as.numeric(aa)])\n",
    "    print(1aa_num_each)\n",
    "}"
   ]
  },
  {
   "cell_type": "code",
   "execution_count": 17,
   "metadata": {},
   "outputs": [
    {
     "data": {
      "text/html": [
       "<ol>\n",
       "\t<li></li>\n",
       "\t<li>3</li>\n",
       "\t<li></li>\n",
       "\t<li></li>\n",
       "\t<li></li>\n",
       "</ol>\n"
      ],
      "text/latex": [
       "\\begin{enumerate}\n",
       "\\item \n",
       "\\item 3\n",
       "\\item \n",
       "\\item \n",
       "\\item \n",
       "\\end{enumerate}\n"
      ],
      "text/markdown": [
       "1. \n",
       "2. 3\n",
       "3. \n",
       "4. \n",
       "5. \n",
       "\n",
       "\n"
      ],
      "text/plain": [
       "[[1]]\n",
       "integer(0)\n",
       "\n",
       "[[2]]\n",
       "[1] 3\n",
       "\n",
       "[[3]]\n",
       "integer(0)\n",
       "\n",
       "[[4]]\n",
       "integer(0)\n",
       "\n",
       "[[5]]\n",
       "integer(0)\n"
      ]
     },
     "metadata": {},
     "output_type": "display_data"
    }
   ],
   "source": [
    "aa_num"
   ]
  },
  {
   "cell_type": "code",
   "execution_count": 10,
   "metadata": {
    "scrolled": true
   },
   "outputs": [
    {
     "data": {
      "text/html": [
       "FALSE"
      ],
      "text/latex": [
       "FALSE"
      ],
      "text/markdown": [
       "FALSE"
      ],
      "text/plain": [
       "[1] FALSE"
      ]
     },
     "metadata": {},
     "output_type": "display_data"
    }
   ],
   "source": [
    "is.element(bb[1], aa)"
   ]
  },
  {
   "cell_type": "code",
   "execution_count": null,
   "metadata": {},
   "outputs": [],
   "source": [
    "'''\n",
    "\n",
    "merge_df <- structure(list(character()), class = \"data.frame\")\n",
    "\n",
    "for (i in 1:length(geno_seq_list)){\n",
    "    for (j in 1:length(cli_seq_list)){\n",
    "        if (as.character(geno_seq_list[i]) == as.character(cli_seq_list[j]))\n",
    "        x <- sdLarger_genomicMatrix_Larger0.5_t[i, ]    \n",
    "        y <- clinical_data_ERPRknown[j, ]\n",
    "        xy <- cbind(x, y)\n",
    "        rbind(merge_df, xy)\n",
    "    }        \n",
    "}\n",
    "\n",
    "'''"
   ]
  },
  {
   "cell_type": "code",
   "execution_count": 7,
   "metadata": {},
   "outputs": [
    {
     "data": {
      "text/html": [
       "<table>\n",
       "<caption>A data.frame: 1 × 5</caption>\n",
       "<thead>\n",
       "\t<tr><th scope=col>X1</th><th scope=col>X2</th><th scope=col>X3</th><th scope=col>X4</th><th scope=col>X5</th></tr>\n",
       "\t<tr><th scope=col>&lt;lgl&gt;</th><th scope=col>&lt;lgl&gt;</th><th scope=col>&lt;lgl&gt;</th><th scope=col>&lt;lgl&gt;</th><th scope=col>&lt;lgl&gt;</th></tr>\n",
       "</thead>\n",
       "<tbody>\n",
       "\t<tr><td>NA</td><td>NA</td><td>NA</td><td>NA</td><td>NA</td></tr>\n",
       "</tbody>\n",
       "</table>\n"
      ],
      "text/latex": [
       "A data.frame: 1 × 5\n",
       "\\begin{tabular}{lllll}\n",
       " X1 & X2 & X3 & X4 & X5\\\\\n",
       " <lgl> & <lgl> & <lgl> & <lgl> & <lgl>\\\\\n",
       "\\hline\n",
       "\t NA & NA & NA & NA & NA\\\\\n",
       "\\end{tabular}\n"
      ],
      "text/markdown": [
       "\n",
       "A data.frame: 1 × 5\n",
       "\n",
       "| X1 &lt;lgl&gt; | X2 &lt;lgl&gt; | X3 &lt;lgl&gt; | X4 &lt;lgl&gt; | X5 &lt;lgl&gt; |\n",
       "|---|---|---|---|---|\n",
       "| NA | NA | NA | NA | NA |\n",
       "\n"
      ],
      "text/plain": [
       "  X1 X2 X3 X4 X5\n",
       "1 NA NA NA NA NA"
      ]
     },
     "metadata": {},
     "output_type": "display_data"
    }
   ],
   "source": [
    "data.frame(matrix(rep(NA,5),nrow=1)) "
   ]
  },
  {
   "cell_type": "code",
   "execution_count": 2,
   "metadata": {
    "scrolled": true
   },
   "outputs": [
    {
     "data": {
      "text/html": [
       "<table>\n",
       "<caption>A data.frame: 4 × 1</caption>\n",
       "<thead>\n",
       "\t<tr><th scope=col>Age</th></tr>\n",
       "\t<tr><th scope=col>&lt;dbl&gt;</th></tr>\n",
       "</thead>\n",
       "<tbody>\n",
       "\t<tr><td>50</td></tr>\n",
       "\t<tr><td>50</td></tr>\n",
       "\t<tr><td>70</td></tr>\n",
       "\t<tr><td>60</td></tr>\n",
       "</tbody>\n",
       "</table>\n"
      ],
      "text/latex": [
       "A data.frame: 4 × 1\n",
       "\\begin{tabular}{l}\n",
       " Age\\\\\n",
       " <dbl>\\\\\n",
       "\\hline\n",
       "\t 50\\\\\n",
       "\t 50\\\\\n",
       "\t 70\\\\\n",
       "\t 60\\\\\n",
       "\\end{tabular}\n"
      ],
      "text/markdown": [
       "\n",
       "A data.frame: 4 × 1\n",
       "\n",
       "| Age &lt;dbl&gt; |\n",
       "|---|\n",
       "| 50 |\n",
       "| 50 |\n",
       "| 70 |\n",
       "| 60 |\n",
       "\n"
      ],
      "text/plain": [
       "  Age\n",
       "1 50 \n",
       "2 50 \n",
       "3 70 \n",
       "4 60 "
      ]
     },
     "metadata": {},
     "output_type": "display_data"
    }
   ],
   "source": [
    "x <-data.frame(Age=c(50,50,70,60))\n",
    "x"
   ]
  },
  {
   "cell_type": "code",
   "execution_count": 4,
   "metadata": {},
   "outputs": [
    {
     "data": {
      "text/html": [
       "<table>\n",
       "<caption>A data.frame: 4 × 2</caption>\n",
       "<thead>\n",
       "\t<tr><th scope=col>Age</th><th scope=col>BW</th></tr>\n",
       "\t<tr><th scope=col>&lt;dbl&gt;</th><th scope=col>&lt;dbl&gt;</th></tr>\n",
       "</thead>\n",
       "<tbody>\n",
       "\t<tr><td>50</td><td>50</td></tr>\n",
       "\t<tr><td>50</td><td>45</td></tr>\n",
       "\t<tr><td>70</td><td>55</td></tr>\n",
       "\t<tr><td>60</td><td>55</td></tr>\n",
       "</tbody>\n",
       "</table>\n"
      ],
      "text/latex": [
       "A data.frame: 4 × 2\n",
       "\\begin{tabular}{ll}\n",
       " Age & BW\\\\\n",
       " <dbl> & <dbl>\\\\\n",
       "\\hline\n",
       "\t 50 & 50\\\\\n",
       "\t 50 & 45\\\\\n",
       "\t 70 & 55\\\\\n",
       "\t 60 & 55\\\\\n",
       "\\end{tabular}\n"
      ],
      "text/markdown": [
       "\n",
       "A data.frame: 4 × 2\n",
       "\n",
       "| Age &lt;dbl&gt; | BW &lt;dbl&gt; |\n",
       "|---|---|\n",
       "| 50 | 50 |\n",
       "| 50 | 45 |\n",
       "| 70 | 55 |\n",
       "| 60 | 55 |\n",
       "\n"
      ],
      "text/plain": [
       "  Age BW\n",
       "1 50  50\n",
       "2 50  45\n",
       "3 70  55\n",
       "4 60  55"
      ]
     },
     "metadata": {},
     "output_type": "display_data"
    }
   ],
   "source": [
    "x2<-transform(x,BW=c(50,45,55,55))\n",
    "x2"
   ]
  },
  {
   "cell_type": "code",
   "execution_count": 5,
   "metadata": {},
   "outputs": [
    {
     "data": {
      "text/html": [
       "<style>\n",
       ".list-inline {list-style: none; margin:0; padding: 0}\n",
       ".list-inline>li {display: inline-block}\n",
       ".list-inline>li:not(:last-child)::after {content: \"\\00b7\"; padding: 0 .5ex}\n",
       "</style>\n",
       "<ol class=list-inline><li>50</li><li>45</li><li>55</li><li>55</li></ol>\n"
      ],
      "text/latex": [
       "\\begin{enumerate*}\n",
       "\\item 50\n",
       "\\item 45\n",
       "\\item 55\n",
       "\\item 55\n",
       "\\end{enumerate*}\n"
      ],
      "text/markdown": [
       "1. 50\n",
       "2. 45\n",
       "3. 55\n",
       "4. 55\n",
       "\n",
       "\n"
      ],
      "text/plain": [
       "[1] 50 45 55 55"
      ]
     },
     "metadata": {},
     "output_type": "display_data"
    }
   ],
   "source": [
    "x2[, \"BW\"]"
   ]
  },
  {
   "cell_type": "code",
   "execution_count": 6,
   "metadata": {},
   "outputs": [
    {
     "ename": "ERROR",
     "evalue": "Error: Argument 1 must have names\n",
     "output_type": "error",
     "traceback": [
      "Error: Argument 1 must have names\nTraceback:\n",
      "1. dplyr::bind_rows(df, x)",
      "2. bind_rows_(x, .id)"
     ]
    }
   ],
   "source": [
    "df <- structure(list(character()), class = \"data.frame\")\n",
    "\n",
    "x <- data.frame(Age=c(50,50,70,60))\n",
    "\n",
    "dplyr::bind_rows(df, x)"
   ]
  },
  {
   "cell_type": "code",
   "execution_count": 8,
   "metadata": {},
   "outputs": [],
   "source": [
    "n <- 3\n",
    "df <- data.frame(matrix(rep(NA, n), nrow=1))[numeric(0), ]\n",
    "colnames(df) <- c(\"column1\", \"column2\", \"column3\")"
   ]
  },
  {
   "cell_type": "code",
   "execution_count": 9,
   "metadata": {},
   "outputs": [
    {
     "data": {
      "text/html": [
       "'character'"
      ],
      "text/latex": [
       "'character'"
      ],
      "text/markdown": [
       "'character'"
      ],
      "text/plain": [
       "[1] \"character\""
      ]
     },
     "metadata": {},
     "output_type": "display_data"
    }
   ],
   "source": [
    "class(colnames(df))"
   ]
  },
  {
   "cell_type": "code",
   "execution_count": 10,
   "metadata": {},
   "outputs": [
    {
     "ename": "ERROR",
     "evalue": "Error in eval(expr, envir, enclos):  オブジェクト 'geno_seq_list' がありません \n",
     "output_type": "error",
     "traceback": [
      "Error in eval(expr, envir, enclos):  オブジェクト 'geno_seq_list' がありません \nTraceback:\n"
     ]
    }
   ],
   "source": [
    "merge_df <- structure(list(character()), class = \"data.frame\")\n",
    "if (as.character(geno_seq_list[1]) == as.character(cli_seq_list[165]))\n",
    "x <- sdLarger_genomicMatrix_Larger0.5_t[1, ]    \n",
    "y <- clinical_data_ERPRknown[165, ]\n",
    "xy <- cbind(x, y)\n",
    "rbind(merge_df, xy)#エラーなし"
   ]
  },
  {
   "cell_type": "code",
   "execution_count": null,
   "metadata": {},
   "outputs": [],
   "source": [
    "merge_df_list <- list()\n",
    "\n",
    "if (is.element(geno_seq_list[1], cli_seq_list)==TRUE)\n",
    "x <- sdLarger_genomicMatrix_Larger0.5_t[1, ]\n",
    "y_num <- as.integer((1:length(cli_seq_list))[geno_seq_list[1] == as.character(cli_seq_list)])\n",
    "if (length(y_num) == 1)\n",
    "y <- clinical_data_ERPRknown[y_num, ]\n",
    "xy <- cbind(x, y) #cbindから変更\n",
    "merge_df_list <- c(merge_df_list, list(xy))\n",
    "\n",
    "merge_df <- bind_rows(merge_df_list) #rbind_allは古い → bind_rows\n",
    "merge_df "
   ]
  },
  {
   "cell_type": "code",
   "execution_count": null,
   "metadata": {},
   "outputs": [],
   "source": [
    "if (is.element(geno_seq_list[2], cli_seq_list)==TRUE)\n",
    "x <- sdLarger_genomicMatrix_Larger0.5_t[2, ]\n",
    "y_num <- as.integer((1:length(cli_seq_list))[geno_seq_list[2] == as.character(cli_seq_list)])\n",
    "if (length(y_num) == 1)\n",
    "y <- clinical_data_ERPRknown[y_num, ]\n",
    "xy <- cbind(x, y) #cbindから変更\n",
    "merge_df_list <- c(merge_df_list, list(xy))\n",
    "\n",
    "merge_df <- bind_rows(merge_df_list) #rbind_allは古い → bind_rows\n",
    "merge_df "
   ]
  },
  {
   "cell_type": "markdown",
   "metadata": {},
   "source": [
    "```dplyr```を使ってデータを追加したら、```NA```行が入ってしまった→```cbind```を使ったら入らなかった。"
   ]
  },
  {
   "cell_type": "code",
   "execution_count": null,
   "metadata": {},
   "outputs": [],
   "source": [
    "library(tidyverse)\n",
    "\n",
    "x1 <- sdLarger_genomicMatrix_Larger0.5_t[1, ]\n",
    "y1 <- clinical_data_ERPRknown[1, ]\n",
    "xy11 <- dplyr::full_join(x1, y1, by = \"sampleID\") #cbindから変更\n",
    "\n",
    "\n",
    "merge_df <- data.frame(matrix(rep(NA, length(colnames(xy11))), nrow=1))[numeric(0), ]\n",
    "colnames(merge_df) <- colnames(xy11)"
   ]
  },
  {
   "cell_type": "markdown",
   "metadata": {},
   "source": [
    "```r```はカッコが大事だと知った"
   ]
  },
  {
   "cell_type": "code",
   "execution_count": null,
   "metadata": {},
   "outputs": [],
   "source": [
    "merge_df_list <- list()\n",
    "\n",
    "for (i in 1:length(geno_seq_list)){\n",
    "    if (is.element(geno_seq_list[i], cli_seq_list)==TRUE)\n",
    "        x <- sdLarger_genomicMatrix_Larger0.5_t[i, ]\n",
    "        y_num <- as.integer((1:length(cli_seq_list))[geno_seq_list[i] == as.character(cli_seq_list)])\n",
    "        if (length(y_num) == 1)\n",
    "            y <- clinical_data_ERPRknown[y_num, ]\n",
    "            xy <- cbind(x, y) #cbindだとsampleID作る必要がない\n",
    "            merge_df_list <- c(merge_df_list, list(xy))\n",
    "}\n",
    "\n",
    "merge_df <- bind_rows(merge_df_list) #rbind_allは古い → bind_rows\n",
    "merge_df "
   ]
  },
  {
   "cell_type": "code",
   "execution_count": 11,
   "metadata": {},
   "outputs": [
    {
     "ename": "ERROR",
     "evalue": "Error in library(hashmap): there is no package called ‘hashmap’\n",
     "output_type": "error",
     "traceback": [
      "Error in library(hashmap): there is no package called ‘hashmap’\nTraceback:\n",
      "1. library(hashmap)"
     ]
    }
   ],
   "source": [
    "generate_random_labels <- function(num, length = 10) {\n",
    "  apply(Vectorize(sample, \"size\")(letters, rep(num, length), replace = TRUE), 1, function(row) paste(row, collapse = \"\"))\n",
    "}\n",
    "generate_random_values <- function(labels, digits = 1) {\n",
    "  format <- paste0(\"%s%0\", digits, \"d\")\n",
    "  sprintf(format, labels, Vectorize(sample, \"size\")(seq_len(10^digits-1), rep(1,length(labels))))\n",
    "}\n",
    "\n",
    "N <- 1000\n",
    "labels <- generate_random_labels(N)\n",
    "values <- generate_random_values(labels)\n",
    "df <- data.frame(labels, values, stringsAsFactors = FALSE)\n",
    "\n",
    "target <- sample(labels, 5)\n",
    "\n",
    "\n",
    "library(hashmap)\n",
    "H <- hashmap(labels, values)\n",
    "H[[target]]"
   ]
  },
  {
   "cell_type": "code",
   "execution_count": null,
   "metadata": {},
   "outputs": [],
   "source": [
    "if (!\"devtools\" %in% installed.packages()[,1]) {\n",
    "    install.packages(\"devtools\")\n",
    "}\n",
    "devtools::install_github(\"nathan-russell/hashmap\")"
   ]
  },
  {
   "cell_type": "code",
   "execution_count": null,
   "metadata": {},
   "outputs": [],
   "source": [
    "library(hashmap)\n",
    "H <- hashmap(c(\"a\", \"b\"), rnorm(2))\n",
    "H[[\"a\"]]\n",
    "## [1] 0.1549271\n",
    "H[[c(\"a\",\"b\")]]\n",
    "## [1]  0.1549271 -0.1222048\n",
    "H[[1]] <- 9"
   ]
  },
  {
   "cell_type": "code",
   "execution_count": 44,
   "metadata": {
    "scrolled": true
   },
   "outputs": [
    {
     "data": {
      "text/html": [
       "<table>\n",
       "<caption>A data.frame: 0 × 2</caption>\n",
       "<thead>\n",
       "\t<tr><th scope=col>No</th><th scope=col>Group</th></tr>\n",
       "\t<tr><th scope=col>&lt;lgl&gt;</th><th scope=col>&lt;lgl&gt;</th></tr>\n",
       "</thead>\n",
       "<tbody>\n",
       "</tbody>\n",
       "</table>\n"
      ],
      "text/latex": [
       "A data.frame: 0 × 2\n",
       "\\begin{tabular}{ll}\n",
       " No & Group\\\\\n",
       " <lgl> & <lgl>\\\\\n",
       "\\hline\n",
       "\\end{tabular}\n"
      ],
      "text/markdown": [
       "\n",
       "A data.frame: 0 × 2\n",
       "\n",
       "| No &lt;lgl&gt; | Group &lt;lgl&gt; |\n",
       "|---|---|\n",
       "\n"
      ],
      "text/plain": [
       "     No Group"
      ]
     },
     "metadata": {},
     "output_type": "display_data"
    }
   ],
   "source": [
    "result <- data.frame(matrix(rep(NA, 2), nrow=1))[numeric(0), ]\n",
    "colnames(result) <- c(\"No\", \"Group\")\n",
    "result"
   ]
  },
  {
   "cell_type": "code",
   "execution_count": 45,
   "metadata": {
    "scrolled": false
   },
   "outputs": [
    {
     "ename": "ERROR",
     "evalue": "Error in `[<-.data.frame`(`*tmp*`, 1, value = structure(1L, .Label = \"1\", class = \"factor\")): replacement has 1 row, data has 0\n",
     "output_type": "error",
     "traceback": [
      "Error in `[<-.data.frame`(`*tmp*`, 1, value = structure(1L, .Label = \"1\", class = \"factor\")): replacement has 1 row, data has 0\nTraceback:\n",
      "1. `[<-`(`*tmp*`, 1, value = structure(1L, .Label = \"1\", class = \"factor\"))",
      "2. `[<-.data.frame`(`*tmp*`, 1, value = structure(1L, .Label = \"1\", class = \"factor\"))",
      "3. stop(sprintf(ngettext(N, \"replacement has %d row, data has %d\", \n .     \"replacement has %d rows, data has %d\"), N, n), domain = NA)"
     ]
    }
   ],
   "source": [
    "result[1] <- as.factor(1)\n",
    "result[2] <- as.factor(3)\n",
    "result"
   ]
  },
  {
   "cell_type": "markdown",
   "metadata": {},
   "source": [
    "\"dbl\"ですね。実験の方は\"fct\""
   ]
  },
  {
   "cell_type": "code",
   "execution_count": 49,
   "metadata": {
    "scrolled": false
   },
   "outputs": [
    {
     "data": {
      "text/html": [
       "<table>\n",
       "<caption>A data.frame: 9 × 2</caption>\n",
       "<thead>\n",
       "\t<tr><th scope=col>X9</th><th scope=col>X2</th></tr>\n",
       "\t<tr><th scope=col>&lt;dbl&gt;</th><th scope=col>&lt;dbl&gt;</th></tr>\n",
       "</thead>\n",
       "<tbody>\n",
       "\t<tr><td> 9</td><td>2</td></tr>\n",
       "\t<tr><td> 9</td><td>2</td></tr>\n",
       "\t<tr><td>10</td><td>2</td></tr>\n",
       "\t<tr><td> 9</td><td>2</td></tr>\n",
       "\t<tr><td>10</td><td>2</td></tr>\n",
       "\t<tr><td>12</td><td>3</td></tr>\n",
       "\t<tr><td> 9</td><td>2</td></tr>\n",
       "\t<tr><td>10</td><td>2</td></tr>\n",
       "\t<tr><td>12</td><td>3</td></tr>\n",
       "</tbody>\n",
       "</table>\n"
      ],
      "text/latex": [
       "A data.frame: 9 × 2\n",
       "\\begin{tabular}{ll}\n",
       " X9 & X2\\\\\n",
       " <dbl> & <dbl>\\\\\n",
       "\\hline\n",
       "\t  9 & 2\\\\\n",
       "\t  9 & 2\\\\\n",
       "\t 10 & 2\\\\\n",
       "\t  9 & 2\\\\\n",
       "\t 10 & 2\\\\\n",
       "\t 12 & 3\\\\\n",
       "\t  9 & 2\\\\\n",
       "\t 10 & 2\\\\\n",
       "\t 12 & 3\\\\\n",
       "\\end{tabular}\n"
      ],
      "text/markdown": [
       "\n",
       "A data.frame: 9 × 2\n",
       "\n",
       "| X9 &lt;dbl&gt; | X2 &lt;dbl&gt; |\n",
       "|---|---|\n",
       "|  9 | 2 |\n",
       "|  9 | 2 |\n",
       "| 10 | 2 |\n",
       "|  9 | 2 |\n",
       "| 10 | 2 |\n",
       "| 12 | 3 |\n",
       "|  9 | 2 |\n",
       "| 10 | 2 |\n",
       "| 12 | 3 |\n",
       "\n"
      ],
      "text/plain": [
       "  X9 X2\n",
       "1  9 2 \n",
       "2  9 2 \n",
       "3 10 2 \n",
       "4  9 2 \n",
       "5 10 2 \n",
       "6 12 3 \n",
       "7  9 2 \n",
       "8 10 2 \n",
       "9 12 3 "
      ]
     },
     "metadata": {},
     "output_type": "display_data"
    }
   ],
   "source": [
    "result <- rbind(result, c(9, 2))\n",
    "result <- rbind(result, c(10, 2))\n",
    "result <- rbind(result, c(12, 3))\n",
    "result"
   ]
  },
  {
   "cell_type": "code",
   "execution_count": 50,
   "metadata": {
    "scrolled": true
   },
   "outputs": [
    {
     "data": {
      "text/html": [
       "<table>\n",
       "<caption>A data.frame: 9 × 2</caption>\n",
       "<thead>\n",
       "\t<tr><th></th><th scope=col>X9</th><th scope=col>X2</th></tr>\n",
       "\t<tr><th></th><th scope=col>&lt;dbl&gt;</th><th scope=col>&lt;dbl&gt;</th></tr>\n",
       "</thead>\n",
       "<tbody>\n",
       "\t<tr><th scope=row>1</th><td> 9</td><td>2</td></tr>\n",
       "\t<tr><th scope=row>2</th><td> 9</td><td>2</td></tr>\n",
       "\t<tr><th scope=row>4</th><td> 9</td><td>2</td></tr>\n",
       "\t<tr><th scope=row>7</th><td> 9</td><td>2</td></tr>\n",
       "\t<tr><th scope=row>3</th><td>10</td><td>2</td></tr>\n",
       "\t<tr><th scope=row>5</th><td>10</td><td>2</td></tr>\n",
       "\t<tr><th scope=row>8</th><td>10</td><td>2</td></tr>\n",
       "\t<tr><th scope=row>6</th><td>12</td><td>3</td></tr>\n",
       "\t<tr><th scope=row>9</th><td>12</td><td>3</td></tr>\n",
       "</tbody>\n",
       "</table>\n"
      ],
      "text/latex": [
       "A data.frame: 9 × 2\n",
       "\\begin{tabular}{r|ll}\n",
       "  & X9 & X2\\\\\n",
       "  & <dbl> & <dbl>\\\\\n",
       "\\hline\n",
       "\t1 &  9 & 2\\\\\n",
       "\t2 &  9 & 2\\\\\n",
       "\t4 &  9 & 2\\\\\n",
       "\t7 &  9 & 2\\\\\n",
       "\t3 & 10 & 2\\\\\n",
       "\t5 & 10 & 2\\\\\n",
       "\t8 & 10 & 2\\\\\n",
       "\t6 & 12 & 3\\\\\n",
       "\t9 & 12 & 3\\\\\n",
       "\\end{tabular}\n"
      ],
      "text/markdown": [
       "\n",
       "A data.frame: 9 × 2\n",
       "\n",
       "| <!--/--> | X9 &lt;dbl&gt; | X2 &lt;dbl&gt; |\n",
       "|---|---|---|\n",
       "| 1 |  9 | 2 |\n",
       "| 2 |  9 | 2 |\n",
       "| 4 |  9 | 2 |\n",
       "| 7 |  9 | 2 |\n",
       "| 3 | 10 | 2 |\n",
       "| 5 | 10 | 2 |\n",
       "| 8 | 10 | 2 |\n",
       "| 6 | 12 | 3 |\n",
       "| 9 | 12 | 3 |\n",
       "\n"
      ],
      "text/plain": [
       "  X9 X2\n",
       "1  9 2 \n",
       "2  9 2 \n",
       "4  9 2 \n",
       "7  9 2 \n",
       "3 10 2 \n",
       "5 10 2 \n",
       "8 10 2 \n",
       "6 12 3 \n",
       "9 12 3 "
      ]
     },
     "metadata": {},
     "output_type": "display_data"
    }
   ],
   "source": [
    "result[order(result$X9), ]"
   ]
  },
  {
   "cell_type": "code",
   "execution_count": 51,
   "metadata": {},
   "outputs": [
    {
     "data": {
      "text/html": [
       "'numeric'"
      ],
      "text/latex": [
       "'numeric'"
      ],
      "text/markdown": [
       "'numeric'"
      ],
      "text/plain": [
       "[1] \"numeric\""
      ]
     },
     "metadata": {},
     "output_type": "display_data"
    }
   ],
   "source": [
    "class(result$X9)"
   ]
  },
  {
   "cell_type": "code",
   "execution_count": 33,
   "metadata": {},
   "outputs": [
    {
     "data": {
      "text/plain": [
       "\n",
       "\tTwo Sample t-test\n",
       "\n",
       "data:  result[1] and result[\"No\"]\n",
       "t = 0, df = 8, p-value = 1\n",
       "alternative hypothesis: true difference in means is not equal to 0\n",
       "95 percent confidence interval:\n",
       " -6.390586  6.390586\n",
       "sample estimates:\n",
       "mean of x mean of y \n",
       "      4.2       4.2 \n"
      ]
     },
     "metadata": {},
     "output_type": "display_data"
    }
   ],
   "source": [
    "t_list <- t.test(result[1], result['No'], var.equal=T)\n",
    "t_list"
   ]
  },
  {
   "cell_type": "code",
   "execution_count": 18,
   "metadata": {},
   "outputs": [
    {
     "data": {
      "text/html": [
       "<dl>\n",
       "\t<dt>[[1]]</dt>\n",
       "\t\t<dd><table>\n",
       "<caption>A matrix: 1 × 1 of type lgl</caption>\n",
       "<tbody>\n",
       "\t<tr><td>NA</td></tr>\n",
       "</tbody>\n",
       "</table>\n",
       "</dd>\n",
       "\t<dt>$class</dt>\n",
       "\t\t<dd>'data.frame'</dd>\n",
       "\t<dt>$row.names</dt>\n",
       "\t\t<dd><style>\n",
       ".list-inline {list-style: none; margin:0; padding: 0}\n",
       ".list-inline>li {display: inline-block}\n",
       ".list-inline>li:not(:last-child)::after {content: \"\\00b7\"; padding: 0 .5ex}\n",
       "</style>\n",
       "<ol class=list-inline><li>'No'</li><li>'Group'</li></ol>\n",
       "</dd>\n",
       "</dl>\n"
      ],
      "text/latex": [
       "\\begin{description}\n",
       "\\item[{[[1]]}] A matrix: 1 × 1 of type lgl\n",
       "\\begin{tabular}{l}\n",
       "\t NA\\\\\n",
       "\\end{tabular}\n",
       "\n",
       "\\item[\\$class] 'data.frame'\n",
       "\\item[\\$row.names] \\begin{enumerate*}\n",
       "\\item 'No'\n",
       "\\item 'Group'\n",
       "\\end{enumerate*}\n",
       "\n",
       "\\end{description}\n"
      ],
      "text/markdown": [
       "[[1]]\n",
       ":   \n",
       "A matrix: 1 × 1 of type lgl\n",
       "\n",
       "| NA |\n",
       "\n",
       "\n",
       "$class\n",
       ":   'data.frame'\n",
       "$row.names\n",
       ":   1. 'No'\n",
       "2. 'Group'\n",
       "\n",
       "\n",
       "\n",
       "\n",
       "\n"
      ],
      "text/plain": [
       "[[1]]\n",
       "     [,1]\n",
       "[1,]   NA\n",
       "\n",
       "$class\n",
       "[1] \"data.frame\"\n",
       "\n",
       "$row.names\n",
       "[1] \"No\"    \"Group\"\n"
      ]
     },
     "metadata": {},
     "output_type": "display_data"
    }
   ],
   "source": [
    "ER_status_t_df <- structure(list(matrix(rep(NA, 1)), class = \"data.frame\", row.names = colnames(result)))\n",
    "ER_status_t_df"
   ]
  },
  {
   "cell_type": "code",
   "execution_count": 14,
   "metadata": {
    "scrolled": true
   },
   "outputs": [
    {
     "ename": "ERROR",
     "evalue": "Error in is.data.frame(x):  オブジェクト 'sdLarger_genomicMatrix_Larger0.5_t' がありません \n",
     "output_type": "error",
     "traceback": [
      "Error in is.data.frame(x):  オブジェクト 'sdLarger_genomicMatrix_Larger0.5_t' がありません \nTraceback:\n",
      "1. structure(list(character()), class = \"data.frame\", row.names = colnames(sdLarger_genomicMatrix_Larger0.5_t))",
      "2. colnames(sdLarger_genomicMatrix_Larger0.5_t)",
      "3. is.data.frame(x)"
     ]
    }
   ],
   "source": [
    "ER_status_t_df <- structure(list(character()), class = \"data.frame\", row.names = colnames(sdLarger_genomicMatrix_Larger0.5_t))"
   ]
  },
  {
   "cell_type": "code",
   "execution_count": 21,
   "metadata": {},
   "outputs": [
    {
     "data": {
      "text/html": [],
      "text/latex": [],
      "text/markdown": [],
      "text/plain": [
       "logical(0)"
      ]
     },
     "metadata": {},
     "output_type": "display_data"
    }
   ],
   "source": [
    "ER_status_t_df <- data.frame(matrix(rep(NA, 1), nrow=1))[numeric(0), ]\n",
    "ER_status_t_df"
   ]
  },
  {
   "cell_type": "code",
   "execution_count": null,
   "metadata": {},
   "outputs": [],
   "source": [
    "ER_status_t_df <- data.frame(matrix(rep(NA, 1), nrow=1))[numeric(0), ]\n",
    "\n",
    "ER_status_tlist <- list()\n",
    "for (j in 1:ncol(sdLarger_genomicMatrix_Larger0.5_t)){\n",
    "    ER_status_tlist_each <- t.test(merge_df[, j], merge_df['ER_Status_nature2012'], var.equal=T)\n",
    "    ER_status_t_df[j, ] <- ER_status_tlist_each\n",
    "}\n",
    "\n",
    "colnames(ER_status_t_df) <- \"ER_status_ttest\""
   ]
  },
  {
   "cell_type": "code",
   "execution_count": null,
   "metadata": {},
   "outputs": [],
   "source": [
    "data[order(ER_status_t_df$ER_status_ttest),]"
   ]
  },
  {
   "cell_type": "code",
   "execution_count": null,
   "metadata": {},
   "outputs": [],
   "source": [
    "ER_status_tlist <- list()\n",
    "for (j in 1:ncol(sdLarger_genomicMatrix_Larger0.5_t)){\n",
    "    ER_status_tlist_each <- t.test(merge_df[, j], merge_df['ER_Status_nature2012'], var.equal=T)\n",
    "    ER_status_tlist <- c(ER_status_tlist, list(ER_status_tlist_each))\n",
    "}\n",
    "\n",
    "ER_status_hashmap <- hashmap(colnames(sdLarger_genomicMatrix_Larger0.5_t), ER_status_tlist)"
   ]
  },
  {
   "cell_type": "markdown",
   "metadata": {},
   "source": [
    "`t.test(as.numeric(merge_df[ ,ncol(sdLarger_genomicMatrix_Larger0.5_t)-1],merge_df$ER_Status_nature2012))`\n",
    "\n",
    "```\n",
    "One Sample t-test\n",
    "\n",
    "data:  as.numeric(merge_df[, ncol(sdLarger_genomicMatrix_Larger0.5_t) -     1], merge_df$ER_Status_nature2012)\n",
    "t = 47.584, df = 780, p-value < 2.2e-16\n",
    "alternative hypothesis: true mean is not equal to 0\n",
    "95 percent confidence interval:\n",
    " 556.9272 604.8552\n",
    "sample estimates:\n",
    "mean of x \n",
    " 580.8912 \n",
    "```\n"
   ]
  },
  {
   "cell_type": "markdown",
   "metadata": {},
   "source": [
    "`t.test(as.numeric(merge_df[ ,ncol(sdLarger_genomicMatrix_Larger0.5_t)-1]),as.numeric(merge_df$ER_Status_nature2012))`\n",
    "\n",
    "```\n",
    "Welch Two Sample t-test\n",
    "\n",
    "data:  as.numeric(merge_df[, ncol(sdLarger_genomicMatrix_Larger0.5_t) -  and as.numeric(merge_df$ER_Status_nature2012)    1]) and as.numeric(merge_df$ER_Status_nature2012)\n",
    "t = 47.357, df = 780, p-value < 2.2e-16\n",
    "alternative hypothesis: true difference in means is not equal to 0\n",
    "95 percent confidence interval:\n",
    " 554.1602 602.0882\n",
    "sample estimates:\n",
    " mean of x  mean of y \n",
    "580.891165   2.766965 \n",
    "```"
   ]
  },
  {
   "cell_type": "markdown",
   "metadata": {},
   "source": [
    "`library(devtools)`\n",
    "\n",
    "`install_github(\"willemsleegers/tidystats\")`\n",
    "\n",
    "```\n",
    "Downloading GitHub repo willemsleegers/tidystats@master\n",
    "dplyr  (0.8.3 -> 0.8.5) [CRAN]\n",
    "tibble (2.1.3 -> 3.0.0) [CRAN]\n",
    "clipr  (0.6.0 -> 0.7.0) [CRAN]\n",
    "Installing 3 packages: dplyr, tibble, clipr\n",
    "\n",
    "The downloaded binary packages are in\n",
    "    /var/folders/fn/nyxc8hg15671d8q7mcn194mc0000gn/T//RtmpudP1GB/downloaded_packages\n",
    "✔  checking for file ‘/private/var/folders/fn/nyxc8hg15671d8q7mcn194mc0000gn/T/RtmpudP1GB/remotes5a9d112783bd/WillemSleegers-tidystats-5caf0c1/DESCRIPTION’ (988ms)\n",
    "─  preparing ‘tidystats’: (595ms)\n",
    "✔  checking DESCRIPTION meta-information\n",
    "─  checking for LF line-endings in source and make files and shell scripts\n",
    "─  checking for empty or unneeded directories\n",
    "─  looking to see if a ‘data/datalist’ file should be added\n",
    "─  building ‘tidystats_0.4.tar.gz’\n",
    "```"
   ]
  },
  {
   "cell_type": "markdown",
   "metadata": {},
   "source": [
    "`devtools::install_github(\"renkun-ken/rlist\")`\n",
    "\n",
    "```\n",
    "Downloading GitHub repo renkun-ken/rlist@master\n",
    "yaml       (2.2.0 -> 2.2.1   ) [CRAN]\n",
    "XML        (NA    -> 3.99-0.3) [CRAN]\n",
    "data.table (NA    -> 1.12.8  ) [CRAN]\n",
    "Installing 3 packages: yaml, XML, data.table\n",
    "\n",
    "The downloaded binary packages are in\n",
    "    /var/folders/fn/nyxc8hg15671d8q7mcn194mc0000gn/T//RtmpcgIksH/downloaded_packages\n",
    "✔  checking for file ‘/private/var/folders/fn/nyxc8hg15671d8q7mcn194mc0000gn/T/RtmpcgIksH/remotes14b57027b272/renkun-ken-rlist-696c143/DESCRIPTION’\n",
    "─  preparing ‘rlist’:\n",
    "✔  checking DESCRIPTION meta-information\n",
    "─  checking for LF line-endings in source and make files and shell scripts\n",
    "─  checking for empty or unneeded directories\n",
    "   Removed empty directory ‘rlist/inst’\n",
    "─  looking to see if a ‘data/datalist’ file should be added\n",
    "─  building ‘rlist_0.4.6.1.tar.gz’\n",
    "install.packages(\"pipeR\")\n",
    "\n",
    "The downloaded binary packages are in\n",
    "    /var/folders/fn/nyxc8hg15671d8q7mcn194mc0000gn/T//RtmpcgIksH/downloaded_packages\n",
    "```"
   ]
  },
  {
   "cell_type": "markdown",
   "metadata": {},
   "source": [
    "`if (!requireNamespace(\"BiocManager\", quietly = TRUE))\n",
    "    install.packages(\"BiocManager\")\n",
    "BiocManager::install()`\n",
    "\n",
    "updateする前のバージョン👇\n",
    "```               _                           \n",
    "platform       x86_64-apple-darwin15.6.0   \n",
    "arch           x86_64                      \n",
    "os             darwin15.6.0                \n",
    "system         x86_64, darwin15.6.0        \n",
    "status                                     \n",
    "major          3                           \n",
    "minor          6.0                         \n",
    "year           2019                        \n",
    "month          04                          \n",
    "day            26                          \n",
    "svn rev        76424                       \n",
    "language       R                           \n",
    "version.string R version 3.6.0 (2019-04-26)\n",
    "nickname       Planting of a Tree     \n",
    "```"
   ]
  },
  {
   "cell_type": "code",
   "execution_count": null,
   "metadata": {},
   "outputs": [],
   "source": [
    "merge_df_list_trial <- list()\n",
    "\n",
    "for (i in 1:4){\n",
    "    if (is.element(geno_seq_list[i], cli_seq_list)==TRUE){\n",
    "        x <- sdLarger_genomicMatrix_Larger0.5_t[i, ]\n",
    "        y_num <- as.integer((1:length(cli_seq_list))[geno_seq_list[i] == as.character(cli_seq_list)])\n",
    "        if (length(y_num) == 1){\n",
    "            y <- clinical_data_ERPRknown[y_num, ]\n",
    "            xy <- cbind(x, y) #cbindだとsampleID作る必要がない\n",
    "            merge_df_list_trial <- c(merge_df_list_trial, list(xy))\n",
    "        }\n",
    "    }\n",
    "}\n",
    "\n",
    "merge_df_trial <- bind_rows(merge_df_list_trial) #rbind_allは古い → bind_rows\n",
    "merge_df_trial"
   ]
  }
 ],
 "metadata": {
  "kernelspec": {
   "display_name": "R",
   "language": "R",
   "name": "ir"
  },
  "language_info": {
   "codemirror_mode": "r",
   "file_extension": ".r",
   "mimetype": "text/x-r-source",
   "name": "R",
   "pygments_lexer": "r",
   "version": "3.6.3"
  }
 },
 "nbformat": 4,
 "nbformat_minor": 2
}
