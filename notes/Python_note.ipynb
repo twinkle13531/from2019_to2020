{
 "cells": [
  {
   "cell_type": "markdown",
   "metadata": {},
   "source": [
    "# このファイルの内容\n",
    "よく忘れるけれどよく使う関数の備忘録\n",
    "\n",
    "# このファイルを作った目的\n",
    "これを見ればこれから各コードのヒントが全部詰まっているというノートを作るため"
   ]
  },
  {
   "cell_type": "markdown",
   "metadata": {},
   "source": [
    "## ただのlist"
   ]
  },
  {
   "cell_type": "code",
   "execution_count": 13,
   "metadata": {},
   "outputs": [
    {
     "name": "stdout",
     "output_type": "stream",
     "text": [
      "<class 'list'>\n",
      "[1]\n",
      "1\n",
      "1\n"
     ]
    }
   ],
   "source": [
    "y = [[0], [1], [0]]\n",
    "i = 2\n",
    "print(type(y[i])) #配列の型を知る\n",
    "print(y[1])\n",
    "print(y[1][0])\n",
    "print(len(y[1]))\n",
    "\n",
    "#print(y[1].shape) #error発生"
   ]
  },
  {
   "cell_type": "markdown",
   "metadata": {},
   "source": [
    "<img src = 'matrix_calcu.png'>"
   ]
  },
  {
   "cell_type": "markdown",
   "metadata": {},
   "source": [
    "## numpy array (=ndarray)において"
   ]
  },
  {
   "cell_type": "code",
   "execution_count": 4,
   "metadata": {},
   "outputs": [
    {
     "data": {
      "text/plain": [
       "array([ 0,  1,  2,  3,  4,  5,  6,  7,  8,  9, 10, 11, 12, 13, 14, 15, 16,\n",
       "       17, 18, 19])"
      ]
     },
     "execution_count": 4,
     "metadata": {},
     "output_type": "execute_result"
    }
   ],
   "source": [
    "import numpy as np\n",
    "a = np.arange(0,20)\n",
    "a"
   ]
  },
  {
   "cell_type": "code",
   "execution_count": 19,
   "metadata": {},
   "outputs": [
    {
     "name": "stdout",
     "output_type": "stream",
     "text": [
      "<class 'numpy.ndarray'>\n",
      "20\n",
      "(20,)\n",
      "1\n",
      "int64\n",
      "True\n",
      "3\n"
     ]
    }
   ],
   "source": [
    "print(type(a)) #配列の型を知る\n",
    "print(len(a))\n",
    "\n",
    "# ndarrayだけの特別関数\n",
    "print(a.shape)\n",
    "print(np.ndim(a)) #次元数\n",
    "print(a.dtype) #要素の型を知る\n",
    "print(np.shape(a)==a.shape) #どちらも(20,)とtuple型が返される\n",
    "print(a[3]) #0行目3列目が出力された"
   ]
  },
  {
   "cell_type": "code",
   "execution_count": 24,
   "metadata": {},
   "outputs": [
    {
     "name": "stdout",
     "output_type": "stream",
     "text": [
      "[[ 0  1  2  3]\n",
      " [ 4  5  6  7]\n",
      " [ 8  9 10 11]]\n",
      "3\n",
      "True\n"
     ]
    }
   ],
   "source": [
    "a_2d = np.arange(12).reshape(3, 4)\n",
    "print(a_2d)\n",
    "print(a_2d[0, -1])\n",
    "print(a_2d[0][-1]==a_2d[0, -1]) #どちらでも良いそう。\n",
    "#print(a[0, -1]) #error発生。1次元のときは行を指定しないらしい。"
   ]
  },
  {
   "cell_type": "code",
   "execution_count": 3,
   "metadata": {},
   "outputs": [
    {
     "name": "stdout",
     "output_type": "stream",
     "text": [
      "[38 71]\n"
     ]
    },
    {
     "data": {
      "text/plain": [
       "array([38, 71])"
      ]
     },
     "execution_count": 3,
     "metadata": {},
     "output_type": "execute_result"
    }
   ],
   "source": [
    "import numpy as np\n",
    "x = np.array([[2, 3, 4], [4, 6 ,7]])#m2, n3\n",
    "w = np.array([3, 4, 5]).T #n3\n",
    "print(np.dot(x, w)) #ok\n",
    "#np.dot(x.T, w)\n",
    "#np.dot(x, w.T)\n",
    "#np.dot(w, x)\n",
    "#np.dot(w.T, x)\n",
    "np.dot(w, x.T)"
   ]
  },
  {
   "cell_type": "code",
   "execution_count": 4,
   "metadata": {},
   "outputs": [
    {
     "name": "stdout",
     "output_type": "stream",
     "text": [
      "[[0 1]\n",
      " [2 3]]\n",
      "[[0 1 2]\n",
      " [3 4 5]]\n",
      "[[ 3  4  5]\n",
      " [ 9 14 19]]\n",
      "[[ 3  4  5]\n",
      " [ 9 14 19]]\n",
      "[[ 3  4  5]\n",
      " [ 9 14 19]]\n",
      "[[ 3  4  5]\n",
      " [ 9 14 19]]\n"
     ]
    }
   ],
   "source": [
    "arr1 = np.arange(4).reshape((2, 2))\n",
    "print(arr1)\n",
    "# [[0 1]\n",
    "#  [2 3]]\n",
    "\n",
    "arr2 = np.arange(6).reshape((2, 3))\n",
    "print(arr2)\n",
    "# [[0 1 2]\n",
    "#  [3 4 5]]\n",
    "\n",
    "print(np.dot(arr1, arr2))\n",
    "# [[ 3  4  5]\n",
    "#  [ 9 14 19]]\n",
    "\n",
    "print(arr1.dot(arr2))\n",
    "# [[ 3  4  5]\n",
    "#  [ 9 14 19]]\n",
    "\n",
    "print(np.matmul(arr1, arr2))\n",
    "# [[ 3  4  5]\n",
    "#  [ 9 14 19]]\n",
    "\n",
    "print(arr1 @ arr2)\n",
    "# [[ 3  4  5]\n",
    "#  [ 9 14 19]]\n"
   ]
  },
  {
   "cell_type": "markdown",
   "metadata": {},
   "source": [
    "# tuple⇔list"
   ]
  },
  {
   "cell_type": "code",
   "execution_count": 1,
   "metadata": {},
   "outputs": [
    {
     "data": {
      "text/plain": [
       "['one', 'two', 'three']"
      ]
     },
     "execution_count": 1,
     "metadata": {},
     "output_type": "execute_result"
    }
   ],
   "source": [
    "t = ('one', 'two', 'three')\n",
    "list(t)"
   ]
  },
  {
   "cell_type": "code",
   "execution_count": 2,
   "metadata": {},
   "outputs": [
    {
     "data": {
      "text/plain": [
       "(1, 3, 5)"
      ]
     },
     "execution_count": 2,
     "metadata": {},
     "output_type": "execute_result"
    }
   ],
   "source": [
    "l = [1, 3, 5]\n",
    "tuple(l)"
   ]
  },
  {
   "cell_type": "code",
   "execution_count": 13,
   "metadata": {},
   "outputs": [
    {
     "name": "stdout",
     "output_type": "stream",
     "text": [
      "0    0\n",
      "1    1\n",
      "2    2\n",
      "dtype: int64\n",
      "0    2\n",
      "1    4\n",
      "2    6\n",
      "dtype: int64\n"
     ]
    }
   ],
   "source": [
    "import pandas as pd\n",
    "l_1d = [0, 1, 2]\n",
    "\n",
    "s = pd.Series(l_1d)\n",
    "print(s)\n",
    "\n",
    "t_1d = (2, 4, 6)\n",
    "u = pd.Series(list(t_1d))\n",
    "print(u)"
   ]
  },
  {
   "cell_type": "markdown",
   "metadata": {},
   "source": [
    "# map"
   ]
  },
  {
   "cell_type": "code",
   "execution_count": 3,
   "metadata": {},
   "outputs": [
    {
     "name": "stdout",
     "output_type": "stream",
     "text": [
      "[0, 1, 4, 9, 16, 25, 36, 49, 64, 81]\n"
     ]
    }
   ],
   "source": [
    "original_list = list(range(10)) # [0, 1, 2, 3, 4, 5, 6, 7, 8, 9]\n",
    "mapped_list = map(lambda x: x**2, original_list)\n",
    " \n",
    "print(list(mapped_list))"
   ]
  },
  {
   "cell_type": "markdown",
   "metadata": {},
   "source": [
    "# pprint.pprint()は今後使うべき"
   ]
  },
  {
   "cell_type": "markdown",
   "metadata": {},
   "source": [
    "# print"
   ]
  },
  {
   "cell_type": "code",
   "execution_count": 9,
   "metadata": {},
   "outputs": [
    {
     "name": "stdout",
     "output_type": "stream",
     "text": [
      "Alice is 25 years old\n",
      "Alice is 25 years old\n",
      "Alice is 25 years old\n",
      "Alice is 25 years old\n",
      "Alice is 25 years old / AliceAliceAlice\n",
      "Alice is 25 years old\n",
      "Alice is 25 years old / {xxx}\n",
      "Alice is 25 years old\n"
     ]
    }
   ],
   "source": [
    "s = 'Alice'\n",
    "i = 25\n",
    "\n",
    "print('Alice is %d years old' % i)\n",
    "\n",
    "print('%s is %d years old' % (s, i))\n",
    "\n",
    "print('Alice is {} years old'.format(i))\n",
    "\n",
    "print('{} is {} years old'.format(s, i))\n",
    "\n",
    "print('{0} is {1} years old / {0}{0}{0}'.format(s, i))\n",
    "# Alice is 25 years old / AliceAliceAlice\n",
    "\n",
    "print('{name} is {age} years old'.format(name=s, age=i))\n",
    "\n",
    "print('{} is {} years old / {{xxx}}'.format(s, i))\n",
    "# Alice is 25 years old / {xxx}\n",
    "\n",
    "print(f'{s} is {i} years old')"
   ]
  },
  {
   "cell_type": "code",
   "execution_count": 10,
   "metadata": {},
   "outputs": [
    {
     "name": "stdout",
     "output_type": "stream",
     "text": [
      "0.4500 is 45.00%\n",
      "0.4500 is 45.00%\n"
     ]
    }
   ],
   "source": [
    "number = 0.45\n",
    "print('{0:.4f} is {0:.2%}'.format(number))\n",
    "\n",
    "print(f'{number:.4f} is {number:.2%}')"
   ]
  },
  {
   "cell_type": "markdown",
   "metadata": {},
   "source": [
    "# dataframe"
   ]
  },
  {
   "cell_type": "markdown",
   "metadata": {},
   "source": [
    "- 行数・列数などを表示: ```df.info()```\n",
    "- 行数を取得: ```len(df)```\n",
    "- 列数を取得: ```len(df.columns)```"
   ]
  },
  {
   "cell_type": "code",
   "execution_count": 14,
   "metadata": {},
   "outputs": [
    {
     "name": "stdout",
     "output_type": "stream",
     "text": [
      "         A    B    C    Y\n",
      "FOUR   NaN  NaN  NaN   Y4\n",
      "ONE     A1   B1   C1  NaN\n",
      "THREE   A3   B3   C3   Y3\n",
      "TWO     A2   B2   C2   Y2\n"
     ]
    },
    {
     "name": "stderr",
     "output_type": "stream",
     "text": [
      "/usr/local/Caskroom/miniconda/base/lib/python3.7/site-packages/ipykernel_launcher.py:10: FutureWarning: Sorting because non-concatenation axis is not aligned. A future version\n",
      "of pandas will change to not sort by default.\n",
      "\n",
      "To accept the future behavior, pass 'sort=False'.\n",
      "\n",
      "To retain the current behavior and silence the warning, pass 'sort=True'.\n",
      "\n",
      "  # Remove the CWD from sys.path while we load stuff.\n"
     ]
    }
   ],
   "source": [
    "df1 = pd.DataFrame({'A': ['A1', 'A2', 'A3'],\n",
    "                    'B': ['B1', 'B2', 'B3'],\n",
    "                    'C': ['C1', 'C2', 'C3']},\n",
    "                   index=['ONE', 'TWO', 'THREE'])\n",
    "\n",
    "\n",
    "s2 = pd.Series(['Y2', 'Y3', 'Y4'], index=['TWO', 'THREE', 'FOUR'], name='Y')\n",
    "\n",
    "\n",
    "df_s_h = pd.concat([df1, s2], axis=1)\n",
    "print(df_s_h)"
   ]
  },
  {
   "cell_type": "markdown",
   "metadata": {},
   "source": [
    "# Continue, Break, Else\n",
    "\n",
    "continue文は、for文やwhile文のブロック処理中に使用します。\n",
    "continue文を使用すると、それ以降の処理を行わず、for文やwhile文のブロックの先頭に戻ります。\n",
    "\n",
    "break文は、for文やwhile文のブロック処理中に使用します。\n",
    "break文を使用すると、それ以降の処理を行わず、for文やwhile文の繰り返し処理自体が終了します。\n",
    "\n",
    "else節は、for文やwhile文の処理の後に使用します。\n",
    "else節を使用すると、for文、あるいはwhile文の処理中でbreak文を使用しなかった時、else節のブロックを実行します。"
   ]
  },
  {
   "cell_type": "markdown",
   "metadata": {},
   "source": [
    "# 特徴量選択\n",
    "\n",
    "## SelectKBest\n",
    "```score_func```というパラメータを指定できます。この```score_func```には以下の選択肢があります。\n",
    "\n",
    "\n",
    "classification(分類)に適用されるのが以下の3つ👇\n",
    "* ```f_classif```…ANOVA\n",
    "* ```mutual_info_classif```…相互情報量\n",
    "* ```chi2```…χ2統計量\n",
    "\n",
    "regression(回帰)に適用されるのが以下の2つ👇\n",
    "* ```f_regression```…F_socreを計算し、p_valueを求めることでソートし重要度を知る。特徴とラベルの単回帰のF値\n",
    "* ```mutual_info_regression```…相互情報量\n",
    "\n",
    "\n",
    "速度において、```mutual_info_classif```および```mutual_info_regression```は、他の100倍くらい遅かった\n",
    "\n",
    "\n",
    "\n",
    "## VarianceThreshold \n",
    "\n",
    "* 所定の分散を満たさないサンプルを持つ特徴を除去する(```y```は関係ないらしい)\n",
    "* デフォルトでは0分散つまり全てのサンプルが同じ値である特徴が除去される。他の例として, 0, 1のブール値を持つ特徴に対し、サンプルの80％以上が0または1の特徴を削除する例が記載されている。"
   ]
  },
  {
   "cell_type": "markdown",
   "metadata": {},
   "source": [
    "# 回帰分析\n",
    "\n",
    "x は説明変数(explanatory variable)，独立変数(independent variable)，共変量(covariate)，regressand，designed variableなどと呼ばれる\n",
    "\n",
    "y は被説明変数(explained variable)，従属変数(dependent variable)，応答変数(response variable), 基準変数(criterion variable)，目標変数(target variable)，regressorなどと呼ばれる．"
   ]
  },
  {
   "cell_type": "markdown",
   "metadata": {},
   "source": [
    "<img src = '20200120224237.png'>"
   ]
  },
  {
   "cell_type": "markdown",
   "metadata": {},
   "source": [
    "Univariate\n",
    "\n",
    "ターゲットが2値である必要があり、よく連続値の特徴量に対して使用されます。2変数に対して行う手法はANOVAなどと呼ばれます。\n",
    "前提として（1）変数とターゲットに線形の関係があること、（2）変数が正規分布している必要があります。"
   ]
  },
  {
   "cell_type": "code",
   "execution_count": 1,
   "metadata": {},
   "outputs": [
    {
     "data": {
      "text/html": [
       "<div>\n",
       "<style scoped>\n",
       "    .dataframe tbody tr th:only-of-type {\n",
       "        vertical-align: middle;\n",
       "    }\n",
       "\n",
       "    .dataframe tbody tr th {\n",
       "        vertical-align: top;\n",
       "    }\n",
       "\n",
       "    .dataframe thead th {\n",
       "        text-align: right;\n",
       "    }\n",
       "</style>\n",
       "<table border=\"1\" class=\"dataframe\">\n",
       "  <thead>\n",
       "    <tr style=\"text-align: right;\">\n",
       "      <th></th>\n",
       "      <th>0</th>\n",
       "      <th>1</th>\n",
       "      <th>2</th>\n",
       "      <th>3</th>\n",
       "      <th>4</th>\n",
       "    </tr>\n",
       "  </thead>\n",
       "  <tbody>\n",
       "    <tr>\n",
       "      <td>0</td>\n",
       "      <td>0</td>\n",
       "      <td>1</td>\n",
       "      <td>2</td>\n",
       "      <td>7</td>\n",
       "      <td>0</td>\n",
       "    </tr>\n",
       "    <tr>\n",
       "      <td>1</td>\n",
       "      <td>0</td>\n",
       "      <td>2</td>\n",
       "      <td>4</td>\n",
       "      <td>7</td>\n",
       "      <td>0</td>\n",
       "    </tr>\n",
       "    <tr>\n",
       "      <td>2</td>\n",
       "      <td>0</td>\n",
       "      <td>1</td>\n",
       "      <td>2</td>\n",
       "      <td>7</td>\n",
       "      <td>0</td>\n",
       "    </tr>\n",
       "    <tr>\n",
       "      <td>3</td>\n",
       "      <td>4</td>\n",
       "      <td>5</td>\n",
       "      <td>6</td>\n",
       "      <td>7</td>\n",
       "      <td>4</td>\n",
       "    </tr>\n",
       "  </tbody>\n",
       "</table>\n",
       "</div>"
      ],
      "text/plain": [
       "   0  1  2  3  4\n",
       "0  0  1  2  7  0\n",
       "1  0  2  4  7  0\n",
       "2  0  1  2  7  0\n",
       "3  4  5  6  7  4"
      ]
     },
     "execution_count": 1,
     "metadata": {},
     "output_type": "execute_result"
    }
   ],
   "source": [
    "import pandas as pd\n",
    "\n",
    "df = pd.DataFrame([[0,1,2,7,0],[0,2,4,7,0],[0,1,2,7,0], [4,5,6,7,4]])\n",
    "df"
   ]
  },
  {
   "cell_type": "code",
   "execution_count": 2,
   "metadata": {},
   "outputs": [
    {
     "data": {
      "text/plain": [
       "0    False\n",
       "1    False\n",
       "2    False\n",
       "3    False\n",
       "4     True\n",
       "dtype: bool"
      ]
     },
     "execution_count": 2,
     "metadata": {},
     "output_type": "execute_result"
    }
   ],
   "source": [
    "df.T.duplicated()"
   ]
  },
  {
   "cell_type": "code",
   "execution_count": 3,
   "metadata": {},
   "outputs": [
    {
     "data": {
      "text/html": [
       "<div>\n",
       "<style scoped>\n",
       "    .dataframe tbody tr th:only-of-type {\n",
       "        vertical-align: middle;\n",
       "    }\n",
       "\n",
       "    .dataframe tbody tr th {\n",
       "        vertical-align: top;\n",
       "    }\n",
       "\n",
       "    .dataframe thead th {\n",
       "        text-align: right;\n",
       "    }\n",
       "</style>\n",
       "<table border=\"1\" class=\"dataframe\">\n",
       "  <thead>\n",
       "    <tr style=\"text-align: right;\">\n",
       "      <th></th>\n",
       "      <th>0</th>\n",
       "      <th>1</th>\n",
       "      <th>2</th>\n",
       "      <th>3</th>\n",
       "      <th>4</th>\n",
       "    </tr>\n",
       "  </thead>\n",
       "  <tbody>\n",
       "    <tr>\n",
       "      <td>0</td>\n",
       "      <td>0</td>\n",
       "      <td>1</td>\n",
       "      <td>2</td>\n",
       "      <td>7</td>\n",
       "      <td>0</td>\n",
       "    </tr>\n",
       "    <tr>\n",
       "      <td>1</td>\n",
       "      <td>0</td>\n",
       "      <td>2</td>\n",
       "      <td>4</td>\n",
       "      <td>7</td>\n",
       "      <td>0</td>\n",
       "    </tr>\n",
       "    <tr>\n",
       "      <td>3</td>\n",
       "      <td>4</td>\n",
       "      <td>5</td>\n",
       "      <td>6</td>\n",
       "      <td>7</td>\n",
       "      <td>4</td>\n",
       "    </tr>\n",
       "  </tbody>\n",
       "</table>\n",
       "</div>"
      ],
      "text/plain": [
       "   0  1  2  3  4\n",
       "0  0  1  2  7  0\n",
       "1  0  2  4  7  0\n",
       "3  4  5  6  7  4"
      ]
     },
     "execution_count": 3,
     "metadata": {},
     "output_type": "execute_result"
    }
   ],
   "source": [
    "df[~df.duplicated()] #違う"
   ]
  },
  {
   "cell_type": "code",
   "execution_count": 4,
   "metadata": {},
   "outputs": [
    {
     "data": {
      "text/html": [
       "<div>\n",
       "<style scoped>\n",
       "    .dataframe tbody tr th:only-of-type {\n",
       "        vertical-align: middle;\n",
       "    }\n",
       "\n",
       "    .dataframe tbody tr th {\n",
       "        vertical-align: top;\n",
       "    }\n",
       "\n",
       "    .dataframe thead th {\n",
       "        text-align: right;\n",
       "    }\n",
       "</style>\n",
       "<table border=\"1\" class=\"dataframe\">\n",
       "  <thead>\n",
       "    <tr style=\"text-align: right;\">\n",
       "      <th></th>\n",
       "      <th>0</th>\n",
       "      <th>1</th>\n",
       "      <th>2</th>\n",
       "      <th>3</th>\n",
       "    </tr>\n",
       "  </thead>\n",
       "  <tbody>\n",
       "    <tr>\n",
       "      <td>0</td>\n",
       "      <td>0</td>\n",
       "      <td>1</td>\n",
       "      <td>2</td>\n",
       "      <td>7</td>\n",
       "    </tr>\n",
       "    <tr>\n",
       "      <td>1</td>\n",
       "      <td>0</td>\n",
       "      <td>2</td>\n",
       "      <td>4</td>\n",
       "      <td>7</td>\n",
       "    </tr>\n",
       "    <tr>\n",
       "      <td>2</td>\n",
       "      <td>0</td>\n",
       "      <td>1</td>\n",
       "      <td>2</td>\n",
       "      <td>7</td>\n",
       "    </tr>\n",
       "    <tr>\n",
       "      <td>3</td>\n",
       "      <td>4</td>\n",
       "      <td>5</td>\n",
       "      <td>6</td>\n",
       "      <td>7</td>\n",
       "    </tr>\n",
       "  </tbody>\n",
       "</table>\n",
       "</div>"
      ],
      "text/plain": [
       "   0  1  2  3\n",
       "0  0  1  2  7\n",
       "1  0  2  4  7\n",
       "2  0  1  2  7\n",
       "3  4  5  6  7"
      ]
     },
     "execution_count": 4,
     "metadata": {},
     "output_type": "execute_result"
    }
   ],
   "source": [
    "df.T.drop_duplicates().T  #これ！"
   ]
  },
  {
   "cell_type": "code",
   "execution_count": 5,
   "metadata": {},
   "outputs": [
    {
     "data": {
      "text/plain": [
       "Int64Index([0, 1, 2, 3], dtype='int64')"
      ]
     },
     "execution_count": 5,
     "metadata": {},
     "output_type": "execute_result"
    }
   ],
   "source": [
    "df.T.drop_duplicates().T.columns"
   ]
  },
  {
   "cell_type": "code",
   "execution_count": 3,
   "metadata": {},
   "outputs": [
    {
     "data": {
      "text/plain": [
       "5"
      ]
     },
     "execution_count": 3,
     "metadata": {},
     "output_type": "execute_result"
    }
   ],
   "source": [
    "len(df.columns)"
   ]
  },
  {
   "cell_type": "code",
   "execution_count": 5,
   "metadata": {},
   "outputs": [
    {
     "data": {
      "text/plain": [
       "True"
      ]
     },
     "execution_count": 5,
     "metadata": {},
     "output_type": "execute_result"
    }
   ],
   "source": [
    "df.shape[1] == len(df.columns) #両方ともcolumnsの数を表している"
   ]
  },
  {
   "cell_type": "code",
   "execution_count": 7,
   "metadata": {},
   "outputs": [
    {
     "name": "stdout",
     "output_type": "stream",
     "text": [
      "0    4\n",
      "1    3\n",
      "2    2\n",
      "3    1\n",
      "dtype: int64\n",
      "<class 'pandas.core.series.Series'>\n"
     ]
    }
   ],
   "source": [
    "y = pd.Series([4, 3, 2, 1])\n",
    "print(y)\n",
    "print(type(y))"
   ]
  },
  {
   "cell_type": "code",
   "execution_count": 10,
   "metadata": {},
   "outputs": [
    {
     "name": "stdout",
     "output_type": "stream",
     "text": [
      "回帰係数は[-0.22727273 -0.09090909  0.04545455  0.         -0.22727273]\n",
      "<class 'numpy.ndarray'>\n",
      "5\n",
      "回帰直線の切片は3.0\n",
      "パラメータは{'copy_X': True, 'fit_intercept': True, 'n_jobs': None, 'normalize': False}\n"
     ]
    }
   ],
   "source": [
    "from sklearn.linear_model import LinearRegression\n",
    "model = LinearRegression()  #線形回帰モデルの呼び出し\n",
    "model.fit(df, y)  #モデルの訓練\n",
    "\n",
    "print(\"回帰係数は{}\".format(model.coef_))  #回帰変数の表示\n",
    "print(type(model.coef_))\n",
    "print(len(model.coef_))\n",
    "print(\"回帰直線の切片は{}\".format(model.intercept_))  #回帰直線の切片(誤差)\n",
    "print(\"パラメータは{}\".format(model.get_params()))  #パラメータの取得\n",
    "\n",
    "#print(model.predict(sel_X_df))  #予測値の表示\n",
    "#print(model.score(sel_X_df,y))  #決定係数の表示"
   ]
  },
  {
   "cell_type": "code",
   "execution_count": 13,
   "metadata": {},
   "outputs": [
    {
     "name": "stdout",
     "output_type": "stream",
     "text": [
      "-0.22727272727272732\n",
      "-0.0909090909090909\n",
      "0.04545454545454535\n",
      "0.0\n",
      "-0.2272727272727271\n"
     ]
    }
   ],
   "source": [
    "for i in model.coef_:\n",
    "    print(i)"
   ]
  },
  {
   "cell_type": "code",
   "execution_count": 15,
   "metadata": {},
   "outputs": [
    {
     "name": "stdout",
     "output_type": "stream",
     "text": [
      "-0.22727272727272732\n",
      "-0.0909090909090909\n",
      "0.04545454545454535\n"
     ]
    }
   ],
   "source": [
    "for i in range(3):\n",
    "    print(model.coef_[i])"
   ]
  },
  {
   "cell_type": "code",
   "execution_count": null,
   "metadata": {},
   "outputs": [],
   "source": [
    "# 選択された特徴量分だけ空リストを用意（外枠は辞書型）\n",
    "\n",
    "def make_selX_dic(num_select):\n",
    "    sel_X_dic = {}\n",
    "    for num in range(num_select): #選ぶ特徴量の数 #0, 1, 2となってしまっている\n",
    "        sel_X_dic[num] = []\n",
    "    return sel_X_dic"
   ]
  },
  {
   "cell_type": "code",
   "execution_count": null,
   "metadata": {},
   "outputs": [],
   "source": [
    "# 選択された特徴量だけでXを作る\n",
    "sel_X_df = pd.DataFrame()\n",
    "for sel_col_num in range(num_feature):  #元ある特徴量\n",
    "    if mask_ori[sel_col_num] == True: #もしmaskがtrueだったら\n",
    "        sel_X_df[sel_col_num] = X.iloc[:, sel_col_num]"
   ]
  },
  {
   "cell_type": "code",
   "execution_count": null,
   "metadata": {},
   "outputs": [],
   "source": [
    "lr = LinearRegression()  #線形回帰モデルの呼び出し\n",
    "lr.fit(sel_X_df, y)  #モデルの訓練\n",
    "\n",
    "for num in range(num_select):\n",
    "    sel_X_dic[num].append(lr.coef_[num])"
   ]
  },
  {
   "cell_type": "markdown",
   "metadata": {},
   "source": [
    "## matplotlib\n",
    "\n",
    "\n",
    "matplotlibの描き方は、まず台紙となるFigureをつくり、そこに付箋Axesを貼り、その付箋にプロットしていく"
   ]
  },
  {
   "cell_type": "code",
   "execution_count": 3,
   "metadata": {},
   "outputs": [
    {
     "data": {
      "image/png": "[encoded data removed]",
      "text/plain": [
       "<Figure size 432x288 with 1 Axes>"
      ]
     },
     "metadata": {},
     "output_type": "display_data"
    }
   ],
   "source": [
    "import matplotlib as mpl\n",
    "import matplotlib.pyplot as plt\n",
    "\n",
    "fig = plt.figure(figsize=(6, 4), dpi=72,\n",
    "                 facecolor='skyblue', linewidth=10, edgecolor='green')\n",
    "ax = fig.add_subplot(111)\n",
    "\n",
    "#fig.savefig('1-1_a.png',facecolor=fig.get_facecolor(), edgecolor=fig.get_edgecolor())"
   ]
  },
  {
   "cell_type": "markdown",
   "metadata": {},
   "source": [
    "plt.subplots(nrows, ncols)を実行すると、無地の台紙Figureと、無地の付箋Axes（複数の場合はそのリスト）が戻り値として返される。\n",
    "nrows，ncolsはAxesの配置を決めるパラメータで、指定するとFigureを縦nrows分割、横ncols分割した全ての位置のAxesの行列が返される。"
   ]
  },
  {
   "cell_type": "code",
   "execution_count": null,
   "metadata": {},
   "outputs": [],
   "source": [
    "fig3, axes2 = plt.subplots(1, 3)\n",
    "ax = axes2.ravel()  \n",
    "\n",
    "for num in range(num_select):\n",
    "    ax[num].hist(sel_X_dic[num])\n",
    "    ax[num].set_title('selected trait No.' + str(num + 1))\n",
    "    ax[num].set_xlabel('regression variables')\n",
    "    ax[num].set_ylabel('number')\n",
    "    print(\"original regression variables of No.{} is {}\".format(num+1, ori_coef[num]))\n",
    "\n",
    "plt.figure(figsize=(12, 10))\n",
    "plt.subplots_adjust(wspace=10, hspace=2)\n",
    "plt.show()"
   ]
  },
  {
   "cell_type": "code",
   "execution_count": null,
   "metadata": {},
   "outputs": [],
   "source": [
    "for num in range(num_select):\n",
    "    plt.hist(sel_X_dic[num], label = labels[num])\n",
    "    print(\"original regression variables of No.{} is {}\".format(num+1, ori_coef[num]))\n",
    "    \n",
    "plt.xlabel('regression variables')\n",
    "plt.ylabel('number')\n",
    "plt.legend()"
   ]
  },
  {
   "cell_type": "code",
   "execution_count": 3,
   "metadata": {},
   "outputs": [
    {
     "data": {
      "text/plain": [
       "[<matplotlib.lines.Line2D at 0x118d7b320>]"
      ]
     },
     "execution_count": 3,
     "metadata": {},
     "output_type": "execute_result"
    },
    {
     "data": {
      "image/png": "[encoded data removed]",
      "text/plain": [
       "<Figure size 432x288 with 1 Axes>"
      ]
     },
     "metadata": {
      "needs_background": "light"
     },
     "output_type": "display_data"
    }
   ],
   "source": [
    "import matplotlib.pyplot as plt\n",
    "%matplotlib inline\n",
    "plt.plot(1,1,marker='o', markersize=20)"
   ]
  },
  {
   "cell_type": "code",
   "execution_count": 1,
   "metadata": {},
   "outputs": [
    {
     "name": "stdout",
     "output_type": "stream",
     "text": [
      "[('A', 200), ('X', 80), ('S', 40), ('R', 20), ('E', 5)]\n"
     ]
    }
   ],
   "source": [
    "dic = {\"X\": 80, \"A\": 200, \"E\": 5, \"R\": 20, \"S\": 40}\n",
    "dic2 = sorted(dic.items(), key=lambda x:x[1], reverse=True)\n",
    "print(dic2)"
   ]
  },
  {
   "cell_type": "markdown",
   "metadata": {},
   "source": [
    "# 相関係数"
   ]
  },
  {
   "cell_type": "code",
   "execution_count": 1,
   "metadata": {},
   "outputs": [
    {
     "name": "stdout",
     "output_type": "stream",
     "text": [
      "0.975751057911441\n"
     ]
    }
   ],
   "source": [
    "import numpy\n",
    "\n",
    "#リスト\n",
    "japanese = [5, 73, 29, 63, 68, 28, 45, 78, 70, 93]\n",
    "math = [11, 82, 25, 61, 66, 27, 42, 88, 71, 84]\n",
    "\n",
    "#numpy使用\n",
    "correlation = numpy.corrcoef(japanese, math)\n",
    "\n",
    "print(correlation[0,1])\n"
   ]
  },
  {
   "cell_type": "code",
   "execution_count": 2,
   "metadata": {},
   "outputs": [
    {
     "name": "stdout",
     "output_type": "stream",
     "text": [
      "-0.3573387872376854\n"
     ]
    }
   ],
   "source": [
    "import pandas as pd\n",
    "import numpy as np\n",
    "\n",
    "l1=list(np.random.randint(0, 10, 10))\n",
    "l2=list(np.random.randint(0, 10, 10))\n",
    "\n",
    "# Seriesを使用\n",
    "s1=pd.Series(l1)\n",
    "s2=pd.Series(l2)\n",
    "\n",
    "# pandasを使用\n",
    "res=s1.corr(s2)   # numpy.float64 に格納される\n",
    "\n",
    "# 結果\n",
    "print(res)"
   ]
  },
  {
   "cell_type": "markdown",
   "metadata": {},
   "source": [
    "```sorted(【リストor辞書】, key=lambda x: 【keyにしたい要素】)```"
   ]
  },
  {
   "cell_type": "code",
   "execution_count": 1,
   "metadata": {},
   "outputs": [
    {
     "name": "stdout",
     "output_type": "stream",
     "text": [
      "['おおさか', 'とうきょう', 'なごや', 'ふくおか', 'よこはま']\n"
     ]
    }
   ],
   "source": [
    "population = {'とうきょう':900, 'よこはま':370, 'おおさか':250, 'なごや':230, 'ふくおか':150}\n",
    "\n",
    "cities_sorted = sorted(population.keys())\n",
    "print(cities_sorted)"
   ]
  },
  {
   "cell_type": "code",
   "execution_count": 3,
   "metadata": {},
   "outputs": [
    {
     "name": "stdout",
     "output_type": "stream",
     "text": [
      "['おおさか', 'とうきょう', 'なごや', 'ふくおか', 'よこはま']\n"
     ]
    }
   ],
   "source": [
    "cities_sorted = sorted(population)\n",
    "print(cities_sorted)"
   ]
  },
  {
   "cell_type": "code",
   "execution_count": 2,
   "metadata": {},
   "outputs": [
    {
     "name": "stdout",
     "output_type": "stream",
     "text": [
      "[150, 230, 250, 370, 900]\n"
     ]
    }
   ],
   "source": [
    "nums_sorted = sorted(population.values())\n",
    "print(nums_sorted)"
   ]
  },
  {
   "cell_type": "code",
   "execution_count": 5,
   "metadata": {},
   "outputs": [
    {
     "ename": "KeyError",
     "evalue": "0",
     "output_type": "error",
     "traceback": [
      "\u001b[0;31m---------------------------------------------------------------------------\u001b[0m",
      "\u001b[0;31mKeyError\u001b[0m                                  Traceback (most recent call last)",
      "\u001b[0;32m<ipython-input-5-3cca989670b8>\u001b[0m in \u001b[0;36m<module>\u001b[0;34m\u001b[0m\n\u001b[0;32m----> 1\u001b[0;31m \u001b[0mpopulation\u001b[0m\u001b[0;34m[\u001b[0m\u001b[0;36m0\u001b[0m\u001b[0;34m]\u001b[0m \u001b[0;31m#辞書では順番の指定ができない\u001b[0m\u001b[0;34m\u001b[0m\u001b[0;34m\u001b[0m\u001b[0m\n\u001b[0m",
      "\u001b[0;31mKeyError\u001b[0m: 0"
     ]
    }
   ],
   "source": [
    "population[0] #辞書では順番の指定ができない"
   ]
  },
  {
   "cell_type": "code",
   "execution_count": 6,
   "metadata": {},
   "outputs": [
    {
     "data": {
      "text/plain": [
       "[(1, 'a'), (1, 'b'), (1, 'c'), (2, 'a'), (2, 'b'), (2, 'c')]"
      ]
     },
     "execution_count": 6,
     "metadata": {},
     "output_type": "execute_result"
    }
   ],
   "source": [
    "results = []\n",
    "for x in [1, 2]:\n",
    "        for y in ['a', 'b', 'c']:\n",
    "            results.append((x, y))\n",
    "results"
   ]
  },
  {
   "cell_type": "code",
   "execution_count": 7,
   "metadata": {},
   "outputs": [
    {
     "data": {
      "text/plain": [
       "[(1, 'a'), (1, 'b'), (1, 'c'), (2, 'a'), (2, 'b'), (2, 'c')]"
      ]
     },
     "execution_count": 7,
     "metadata": {},
     "output_type": "execute_result"
    }
   ],
   "source": [
    "[(x, y) for x in [1, 2] for y in ['a', 'b', 'c']]"
   ]
  },
  {
   "cell_type": "code",
   "execution_count": 10,
   "metadata": {},
   "outputs": [
    {
     "name": "stdout",
     "output_type": "stream",
     "text": [
      "['key2', 'key3']\n",
      "2\n"
     ]
    }
   ],
   "source": [
    "d_num = {'key1': 1, 'key2': 2, 'key3': 3}\n",
    "\n",
    "keys = [k for k, v in d_num.items() if v >= 2]\n",
    "print(keys)\n",
    "print(len(keys))"
   ]
  },
  {
   "cell_type": "code",
   "execution_count": null,
   "metadata": {},
   "outputs": [],
   "source": []
  }
 ],
 "metadata": {
  "kernelspec": {
   "display_name": "Python 3",
   "language": "python",
   "name": "python3"
  },
  "language_info": {
   "codemirror_mode": {
    "name": "ipython",
    "version": 3
   },
   "file_extension": ".py",
   "mimetype": "text/x-python",
   "name": "python",
   "nbconvert_exporter": "python",
   "pygments_lexer": "ipython3",
   "version": "3.7.3"
  }
 },
 "nbformat": 4,
 "nbformat_minor": 2
}
